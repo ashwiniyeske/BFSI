{
 "cells": [
  {
   "cell_type": "code",
   "execution_count": 1,
   "id": "25a89d18",
   "metadata": {
    "_cell_guid": "b1076dfc-b9ad-4769-8c92-a6c4dae69d19",
    "_uuid": "8f2839f25d086af736a60e9eeb907d3b93b6e0e5",
    "execution": {
     "iopub.execute_input": "2023-09-14T08:37:34.163495Z",
     "iopub.status.busy": "2023-09-14T08:37:34.162689Z",
     "iopub.status.idle": "2023-09-14T08:37:34.546229Z",
     "shell.execute_reply": "2023-09-14T08:37:34.544344Z"
    },
    "papermill": {
     "duration": 0.397515,
     "end_time": "2023-09-14T08:37:34.550149",
     "exception": false,
     "start_time": "2023-09-14T08:37:34.152634",
     "status": "completed"
    },
    "tags": []
   },
   "outputs": [
    {
     "name": "stdout",
     "output_type": "stream",
     "text": [
      "/kaggle/input/bank-customer-segmentation/bank_transactions.csv\n"
     ]
    }
   ],
   "source": [
    "# This Python 3 environment comes with many helpful analytics libraries installed\n",
    "# It is defined by the kaggle/python Docker image: https://github.com/kaggle/docker-python\n",
    "# For example, here's several helpful packages to load\n",
    "\n",
    "import numpy as np # linear algebra\n",
    "import pandas as pd # data processing, CSV file I/O (e.g. pd.read_csv)\n",
    "\n",
    "# Input data files are available in the read-only \"../input/\" directory\n",
    "# For example, running this (by clicking run or pressing Shift+Enter) will list all files under the input directory\n",
    "\n",
    "import os\n",
    "for dirname, _, filenames in os.walk('/kaggle/input'):\n",
    "    for filename in filenames:\n",
    "        print(os.path.join(dirname, filename))\n",
    "\n",
    "# You can write up to 20GB to the current directory (/kaggle/working/) that gets preserved as output when you create a version using \"Save & Run All\" \n",
    "# You can also write temporary files to /kaggle/temp/, but they won't be saved outside of the current session"
   ]
  },
  {
   "cell_type": "code",
   "execution_count": 2,
   "id": "0070457c",
   "metadata": {
    "execution": {
     "iopub.execute_input": "2023-09-14T08:37:34.566889Z",
     "iopub.status.busy": "2023-09-14T08:37:34.566402Z",
     "iopub.status.idle": "2023-09-14T08:37:36.775374Z",
     "shell.execute_reply": "2023-09-14T08:37:36.774130Z"
    },
    "papermill": {
     "duration": 2.220057,
     "end_time": "2023-09-14T08:37:36.777765",
     "exception": false,
     "start_time": "2023-09-14T08:37:34.557708",
     "status": "completed"
    },
    "tags": []
   },
   "outputs": [],
   "source": [
    "import pandas as pd\n",
    "import numpy as np\n",
    "\n",
    "import re\n",
    "\n",
    "from sklearn.cluster import KMeans\n",
    "from sklearn.cluster import AgglomerativeClustering\n",
    "from sklearn.cluster import SpectralClustering\n",
    "from sklearn.cluster import DBSCAN\n",
    "\n",
    "from sklearn.preprocessing import MinMaxScaler\n",
    "from sklearn.preprocessing import StandardScaler\n",
    "\n",
    "from sklearn.metrics import silhouette_score,davies_bouldin_score\n",
    "from sklearn.decomposition import PCA\n",
    "\n",
    "import matplotlib.pyplot as plt\n",
    "from mpl_toolkits import mplot3d\n",
    "import seaborn as sns\n",
    "import scipy.cluster.hierarchy as shc"
   ]
  },
  {
   "cell_type": "code",
   "execution_count": 3,
   "id": "a42db8d2",
   "metadata": {
    "execution": {
     "iopub.execute_input": "2023-09-14T08:37:36.794726Z",
     "iopub.status.busy": "2023-09-14T08:37:36.793709Z",
     "iopub.status.idle": "2023-09-14T08:37:49.834457Z",
     "shell.execute_reply": "2023-09-14T08:37:49.833049Z"
    },
    "papermill": {
     "duration": 13.052259,
     "end_time": "2023-09-14T08:37:49.837465",
     "exception": false,
     "start_time": "2023-09-14T08:37:36.785206",
     "status": "completed"
    },
    "tags": []
   },
   "outputs": [
    {
     "name": "stdout",
     "output_type": "stream",
     "text": [
      "Collecting kneed\r\n",
      "  Downloading kneed-0.8.5-py3-none-any.whl (10 kB)\r\n",
      "Requirement already satisfied: numpy>=1.14.2 in /opt/conda/lib/python3.10/site-packages (from kneed) (1.23.5)\r\n",
      "Requirement already satisfied: scipy>=1.0.0 in /opt/conda/lib/python3.10/site-packages (from kneed) (1.11.2)\r\n",
      "Installing collected packages: kneed\r\n",
      "Successfully installed kneed-0.8.5\r\n"
     ]
    }
   ],
   "source": [
    "try:\n",
    "    from kneed import KneeLocator\n",
    "except:    \n",
    "    !pip install kneed\n",
    "    from kneed import KneeLocator\n",
    "try:\n",
    "    from yellowbrick.cluster import KElbowVisualizer\n",
    "except:\n",
    "    !pip install-U yellowbrick\n",
    "    from yellowbrick.cluster import KElbowVisualizer"
   ]
  },
  {
   "cell_type": "code",
   "execution_count": 4,
   "id": "e2eaf922",
   "metadata": {
    "execution": {
     "iopub.execute_input": "2023-09-14T08:37:49.861080Z",
     "iopub.status.busy": "2023-09-14T08:37:49.860653Z",
     "iopub.status.idle": "2023-09-14T08:37:50.783284Z",
     "shell.execute_reply": "2023-09-14T08:37:50.782438Z"
    },
    "papermill": {
     "duration": 0.936936,
     "end_time": "2023-09-14T08:37:50.786223",
     "exception": false,
     "start_time": "2023-09-14T08:37:49.849287",
     "status": "completed"
    },
    "tags": []
   },
   "outputs": [],
   "source": [
    "try:\n",
    "    import plotly.express as px\n",
    "    import plotly.graph_objects as go\n",
    "    \n",
    "except:\n",
    "    !pip install plotly\n",
    "    import plotly.express as px\n",
    "    import plotly.graph_objects as go"
   ]
  },
  {
   "cell_type": "code",
   "execution_count": 5,
   "id": "c7241c2d",
   "metadata": {
    "execution": {
     "iopub.execute_input": "2023-09-14T08:37:50.815570Z",
     "iopub.status.busy": "2023-09-14T08:37:50.814712Z",
     "iopub.status.idle": "2023-09-14T08:37:54.040489Z",
     "shell.execute_reply": "2023-09-14T08:37:54.039428Z"
    },
    "papermill": {
     "duration": 3.24279,
     "end_time": "2023-09-14T08:37:54.043650",
     "exception": false,
     "start_time": "2023-09-14T08:37:50.800860",
     "status": "completed"
    },
    "tags": []
   },
   "outputs": [
    {
     "data": {
      "text/html": [
       "<div>\n",
       "<style scoped>\n",
       "    .dataframe tbody tr th:only-of-type {\n",
       "        vertical-align: middle;\n",
       "    }\n",
       "\n",
       "    .dataframe tbody tr th {\n",
       "        vertical-align: top;\n",
       "    }\n",
       "\n",
       "    .dataframe thead th {\n",
       "        text-align: right;\n",
       "    }\n",
       "</style>\n",
       "<table border=\"1\" class=\"dataframe\">\n",
       "  <thead>\n",
       "    <tr style=\"text-align: right;\">\n",
       "      <th></th>\n",
       "      <th>TransactionID</th>\n",
       "      <th>CustomerID</th>\n",
       "      <th>CustomerDOB</th>\n",
       "      <th>CustGender</th>\n",
       "      <th>CustLocation</th>\n",
       "      <th>CustAccountBalance</th>\n",
       "      <th>TransactionDate</th>\n",
       "      <th>TransactionTime</th>\n",
       "      <th>TransactionAmount (INR)</th>\n",
       "    </tr>\n",
       "  </thead>\n",
       "  <tbody>\n",
       "    <tr>\n",
       "      <th>0</th>\n",
       "      <td>T1</td>\n",
       "      <td>C5841053</td>\n",
       "      <td>10/1/94</td>\n",
       "      <td>F</td>\n",
       "      <td>JAMSHEDPUR</td>\n",
       "      <td>17819.05</td>\n",
       "      <td>2/8/16</td>\n",
       "      <td>143207</td>\n",
       "      <td>25.0</td>\n",
       "    </tr>\n",
       "    <tr>\n",
       "      <th>1</th>\n",
       "      <td>T2</td>\n",
       "      <td>C2142763</td>\n",
       "      <td>4/4/57</td>\n",
       "      <td>M</td>\n",
       "      <td>JHAJJAR</td>\n",
       "      <td>2270.69</td>\n",
       "      <td>2/8/16</td>\n",
       "      <td>141858</td>\n",
       "      <td>27999.0</td>\n",
       "    </tr>\n",
       "    <tr>\n",
       "      <th>2</th>\n",
       "      <td>T3</td>\n",
       "      <td>C4417068</td>\n",
       "      <td>26/11/96</td>\n",
       "      <td>F</td>\n",
       "      <td>MUMBAI</td>\n",
       "      <td>17874.44</td>\n",
       "      <td>2/8/16</td>\n",
       "      <td>142712</td>\n",
       "      <td>459.0</td>\n",
       "    </tr>\n",
       "    <tr>\n",
       "      <th>3</th>\n",
       "      <td>T4</td>\n",
       "      <td>C5342380</td>\n",
       "      <td>14/9/73</td>\n",
       "      <td>F</td>\n",
       "      <td>MUMBAI</td>\n",
       "      <td>866503.21</td>\n",
       "      <td>2/8/16</td>\n",
       "      <td>142714</td>\n",
       "      <td>2060.0</td>\n",
       "    </tr>\n",
       "    <tr>\n",
       "      <th>4</th>\n",
       "      <td>T5</td>\n",
       "      <td>C9031234</td>\n",
       "      <td>24/3/88</td>\n",
       "      <td>F</td>\n",
       "      <td>NAVI MUMBAI</td>\n",
       "      <td>6714.43</td>\n",
       "      <td>2/8/16</td>\n",
       "      <td>181156</td>\n",
       "      <td>1762.5</td>\n",
       "    </tr>\n",
       "  </tbody>\n",
       "</table>\n",
       "</div>"
      ],
      "text/plain": [
       "  TransactionID CustomerID CustomerDOB CustGender CustLocation  \\\n",
       "0            T1   C5841053     10/1/94          F   JAMSHEDPUR   \n",
       "1            T2   C2142763      4/4/57          M      JHAJJAR   \n",
       "2            T3   C4417068    26/11/96          F       MUMBAI   \n",
       "3            T4   C5342380     14/9/73          F       MUMBAI   \n",
       "4            T5   C9031234     24/3/88          F  NAVI MUMBAI   \n",
       "\n",
       "   CustAccountBalance TransactionDate  TransactionTime  \\\n",
       "0            17819.05          2/8/16           143207   \n",
       "1             2270.69          2/8/16           141858   \n",
       "2            17874.44          2/8/16           142712   \n",
       "3           866503.21          2/8/16           142714   \n",
       "4             6714.43          2/8/16           181156   \n",
       "\n",
       "   TransactionAmount (INR)  \n",
       "0                     25.0  \n",
       "1                  27999.0  \n",
       "2                    459.0  \n",
       "3                   2060.0  \n",
       "4                   1762.5  "
      ]
     },
     "execution_count": 5,
     "metadata": {},
     "output_type": "execute_result"
    }
   ],
   "source": [
    "data = pd.read_csv(\"/kaggle/input/bank-customer-segmentation/bank_transactions.csv\")\n",
    "data.head()"
   ]
  },
  {
   "cell_type": "code",
   "execution_count": 6,
   "id": "f87c4035",
   "metadata": {
    "execution": {
     "iopub.execute_input": "2023-09-14T08:37:54.062136Z",
     "iopub.status.busy": "2023-09-14T08:37:54.061463Z",
     "iopub.status.idle": "2023-09-14T08:37:55.206441Z",
     "shell.execute_reply": "2023-09-14T08:37:55.205344Z"
    },
    "papermill": {
     "duration": 1.156648,
     "end_time": "2023-09-14T08:37:55.208822",
     "exception": false,
     "start_time": "2023-09-14T08:37:54.052174",
     "status": "completed"
    },
    "tags": []
   },
   "outputs": [
    {
     "data": {
      "text/html": [
       "<div>\n",
       "<style scoped>\n",
       "    .dataframe tbody tr th:only-of-type {\n",
       "        vertical-align: middle;\n",
       "    }\n",
       "\n",
       "    .dataframe tbody tr th {\n",
       "        vertical-align: top;\n",
       "    }\n",
       "\n",
       "    .dataframe thead th {\n",
       "        text-align: right;\n",
       "    }\n",
       "</style>\n",
       "<table border=\"1\" class=\"dataframe\">\n",
       "  <thead>\n",
       "    <tr style=\"text-align: right;\">\n",
       "      <th></th>\n",
       "      <th>columns</th>\n",
       "      <th>dtypes</th>\n",
       "      <th>nunique</th>\n",
       "      <th>sum_null</th>\n",
       "    </tr>\n",
       "  </thead>\n",
       "  <tbody>\n",
       "    <tr>\n",
       "      <th>0</th>\n",
       "      <td>TransactionID</td>\n",
       "      <td>object</td>\n",
       "      <td>1048567</td>\n",
       "      <td>0</td>\n",
       "    </tr>\n",
       "    <tr>\n",
       "      <th>1</th>\n",
       "      <td>CustomerID</td>\n",
       "      <td>object</td>\n",
       "      <td>884265</td>\n",
       "      <td>0</td>\n",
       "    </tr>\n",
       "    <tr>\n",
       "      <th>2</th>\n",
       "      <td>CustomerDOB</td>\n",
       "      <td>object</td>\n",
       "      <td>17254</td>\n",
       "      <td>3397</td>\n",
       "    </tr>\n",
       "    <tr>\n",
       "      <th>3</th>\n",
       "      <td>CustGender</td>\n",
       "      <td>object</td>\n",
       "      <td>3</td>\n",
       "      <td>1100</td>\n",
       "    </tr>\n",
       "    <tr>\n",
       "      <th>4</th>\n",
       "      <td>CustLocation</td>\n",
       "      <td>object</td>\n",
       "      <td>9355</td>\n",
       "      <td>151</td>\n",
       "    </tr>\n",
       "    <tr>\n",
       "      <th>5</th>\n",
       "      <td>CustAccountBalance</td>\n",
       "      <td>float64</td>\n",
       "      <td>161328</td>\n",
       "      <td>2369</td>\n",
       "    </tr>\n",
       "    <tr>\n",
       "      <th>6</th>\n",
       "      <td>TransactionDate</td>\n",
       "      <td>object</td>\n",
       "      <td>55</td>\n",
       "      <td>0</td>\n",
       "    </tr>\n",
       "    <tr>\n",
       "      <th>7</th>\n",
       "      <td>TransactionTime</td>\n",
       "      <td>int64</td>\n",
       "      <td>81918</td>\n",
       "      <td>0</td>\n",
       "    </tr>\n",
       "    <tr>\n",
       "      <th>8</th>\n",
       "      <td>TransactionAmount (INR)</td>\n",
       "      <td>float64</td>\n",
       "      <td>93024</td>\n",
       "      <td>0</td>\n",
       "    </tr>\n",
       "  </tbody>\n",
       "</table>\n",
       "</div>"
      ],
      "text/plain": [
       "                   columns   dtypes  nunique  sum_null\n",
       "0            TransactionID   object  1048567         0\n",
       "1               CustomerID   object   884265         0\n",
       "2              CustomerDOB   object    17254      3397\n",
       "3               CustGender   object        3      1100\n",
       "4             CustLocation   object     9355       151\n",
       "5       CustAccountBalance  float64   161328      2369\n",
       "6          TransactionDate   object       55         0\n",
       "7          TransactionTime    int64    81918         0\n",
       "8  TransactionAmount (INR)  float64    93024         0"
      ]
     },
     "execution_count": 6,
     "metadata": {},
     "output_type": "execute_result"
    }
   ],
   "source": [
    "def check(df):\n",
    "    l = []\n",
    "    columns = df.columns\n",
    "    for col in columns:\n",
    "        dtypes = df[col].dtypes\n",
    "        nunique = df[col].nunique()\n",
    "        sum_null = df[col].isnull().sum()\n",
    "        l.append([col,dtypes,nunique,sum_null])\n",
    "    df_check=pd.DataFrame(l)\n",
    "    df_check.columns = ['columns','dtypes','nunique','sum_null']\n",
    "    return df_check\n",
    "check(data)"
   ]
  },
  {
   "cell_type": "code",
   "execution_count": 7,
   "id": "4ff2c970",
   "metadata": {
    "execution": {
     "iopub.execute_input": "2023-09-14T08:37:55.226989Z",
     "iopub.status.busy": "2023-09-14T08:37:55.226555Z",
     "iopub.status.idle": "2023-09-14T08:37:56.008940Z",
     "shell.execute_reply": "2023-09-14T08:37:56.007823Z"
    },
    "papermill": {
     "duration": 0.794072,
     "end_time": "2023-09-14T08:37:56.011442",
     "exception": false,
     "start_time": "2023-09-14T08:37:55.217370",
     "status": "completed"
    },
    "tags": []
   },
   "outputs": [
    {
     "data": {
      "text/plain": [
       "Text(0.5, 1.0, 'Frequency')"
      ]
     },
     "execution_count": 7,
     "metadata": {},
     "output_type": "execute_result"
    },
    {
     "data": {
      "image/png": "[encoded data removed]",
      "text/plain": [
       "<Figure size 800x550 with 1 Axes>"
      ]
     },
     "metadata": {},
     "output_type": "display_data"
    }
   ],
   "source": [
    "plt.style.use(\"fivethirtyeight\")\n",
    "chart=sns.countplot(x='CustGender',data=data,palette='rocket',order=data['CustGender'].value_counts().index)\n",
    "\n",
    "plt.title(\"Frequency\",fontsize='20',backgroundcolor='AliceBlue',color='magenta')"
   ]
  },
  {
   "cell_type": "code",
   "execution_count": 8,
   "id": "222a7802",
   "metadata": {
    "execution": {
     "iopub.execute_input": "2023-09-14T08:37:56.030858Z",
     "iopub.status.busy": "2023-09-14T08:37:56.030163Z",
     "iopub.status.idle": "2023-09-14T08:37:56.324826Z",
     "shell.execute_reply": "2023-09-14T08:37:56.323822Z"
    },
    "papermill": {
     "duration": 0.307277,
     "end_time": "2023-09-14T08:37:56.327433",
     "exception": false,
     "start_time": "2023-09-14T08:37:56.020156",
     "status": "completed"
    },
    "tags": []
   },
   "outputs": [
    {
     "name": "stdout",
     "output_type": "stream",
     "text": [
      "<class 'pandas.core.frame.DataFrame'>\n",
      "RangeIndex: 1048567 entries, 0 to 1048566\n",
      "Data columns (total 9 columns):\n",
      " #   Column                   Non-Null Count    Dtype  \n",
      "---  ------                   --------------    -----  \n",
      " 0   TransactionID            1048567 non-null  object \n",
      " 1   CustomerID               1048567 non-null  object \n",
      " 2   CustomerDOB              1045170 non-null  object \n",
      " 3   CustGender               1047467 non-null  object \n",
      " 4   CustLocation             1048416 non-null  object \n",
      " 5   CustAccountBalance       1046198 non-null  float64\n",
      " 6   TransactionDate          1048567 non-null  object \n",
      " 7   TransactionTime          1048567 non-null  int64  \n",
      " 8   TransactionAmount (INR)  1048567 non-null  float64\n",
      "dtypes: float64(2), int64(1), object(6)\n",
      "memory usage: 72.0+ MB\n"
     ]
    }
   ],
   "source": [
    "data.info()"
   ]
  },
  {
   "cell_type": "code",
   "execution_count": 9,
   "id": "0c2bc06e",
   "metadata": {
    "execution": {
     "iopub.execute_input": "2023-09-14T08:37:56.346884Z",
     "iopub.status.busy": "2023-09-14T08:37:56.346475Z",
     "iopub.status.idle": "2023-09-14T08:37:56.602887Z",
     "shell.execute_reply": "2023-09-14T08:37:56.601779Z"
    },
    "papermill": {
     "duration": 0.268682,
     "end_time": "2023-09-14T08:37:56.605135",
     "exception": false,
     "start_time": "2023-09-14T08:37:56.336453",
     "status": "completed"
    },
    "tags": []
   },
   "outputs": [
    {
     "data": {
      "text/plain": [
       "(1042651, 9)"
      ]
     },
     "execution_count": 9,
     "metadata": {},
     "output_type": "execute_result"
    }
   ],
   "source": [
    "data.dropna(subset=['CustLocation','CustomerDOB','CustAccountBalance'],inplace = True)\n",
    "data.shape"
   ]
  },
  {
   "cell_type": "code",
   "execution_count": 10,
   "id": "40f5ff20",
   "metadata": {
    "execution": {
     "iopub.execute_input": "2023-09-14T08:37:56.625330Z",
     "iopub.status.busy": "2023-09-14T08:37:56.624438Z",
     "iopub.status.idle": "2023-09-14T08:37:57.730296Z",
     "shell.execute_reply": "2023-09-14T08:37:57.729089Z"
    },
    "papermill": {
     "duration": 1.118297,
     "end_time": "2023-09-14T08:37:57.732616",
     "exception": false,
     "start_time": "2023-09-14T08:37:56.614319",
     "status": "completed"
    },
    "tags": []
   },
   "outputs": [
    {
     "data": {
      "text/html": [
       "<div>\n",
       "<style scoped>\n",
       "    .dataframe tbody tr th:only-of-type {\n",
       "        vertical-align: middle;\n",
       "    }\n",
       "\n",
       "    .dataframe tbody tr th {\n",
       "        vertical-align: top;\n",
       "    }\n",
       "\n",
       "    .dataframe thead th {\n",
       "        text-align: right;\n",
       "    }\n",
       "</style>\n",
       "<table border=\"1\" class=\"dataframe\">\n",
       "  <thead>\n",
       "    <tr style=\"text-align: right;\">\n",
       "      <th></th>\n",
       "      <th>columns</th>\n",
       "      <th>dtypes</th>\n",
       "      <th>nunique</th>\n",
       "      <th>sum_null</th>\n",
       "    </tr>\n",
       "  </thead>\n",
       "  <tbody>\n",
       "    <tr>\n",
       "      <th>0</th>\n",
       "      <td>TransactionID</td>\n",
       "      <td>object</td>\n",
       "      <td>1042651</td>\n",
       "      <td>0</td>\n",
       "    </tr>\n",
       "    <tr>\n",
       "      <th>1</th>\n",
       "      <td>CustomerID</td>\n",
       "      <td>object</td>\n",
       "      <td>880115</td>\n",
       "      <td>0</td>\n",
       "    </tr>\n",
       "    <tr>\n",
       "      <th>2</th>\n",
       "      <td>CustomerDOB</td>\n",
       "      <td>object</td>\n",
       "      <td>17234</td>\n",
       "      <td>0</td>\n",
       "    </tr>\n",
       "    <tr>\n",
       "      <th>3</th>\n",
       "      <td>CustGender</td>\n",
       "      <td>object</td>\n",
       "      <td>3</td>\n",
       "      <td>1037</td>\n",
       "    </tr>\n",
       "    <tr>\n",
       "      <th>4</th>\n",
       "      <td>CustLocation</td>\n",
       "      <td>object</td>\n",
       "      <td>9278</td>\n",
       "      <td>0</td>\n",
       "    </tr>\n",
       "    <tr>\n",
       "      <th>5</th>\n",
       "      <td>CustAccountBalance</td>\n",
       "      <td>float64</td>\n",
       "      <td>160829</td>\n",
       "      <td>0</td>\n",
       "    </tr>\n",
       "    <tr>\n",
       "      <th>6</th>\n",
       "      <td>TransactionDate</td>\n",
       "      <td>object</td>\n",
       "      <td>55</td>\n",
       "      <td>0</td>\n",
       "    </tr>\n",
       "    <tr>\n",
       "      <th>7</th>\n",
       "      <td>TransactionTime</td>\n",
       "      <td>int64</td>\n",
       "      <td>81862</td>\n",
       "      <td>0</td>\n",
       "    </tr>\n",
       "    <tr>\n",
       "      <th>8</th>\n",
       "      <td>TransactionAmount (INR)</td>\n",
       "      <td>float64</td>\n",
       "      <td>92448</td>\n",
       "      <td>0</td>\n",
       "    </tr>\n",
       "  </tbody>\n",
       "</table>\n",
       "</div>"
      ],
      "text/plain": [
       "                   columns   dtypes  nunique  sum_null\n",
       "0            TransactionID   object  1042651         0\n",
       "1               CustomerID   object   880115         0\n",
       "2              CustomerDOB   object    17234         0\n",
       "3               CustGender   object        3      1037\n",
       "4             CustLocation   object     9278         0\n",
       "5       CustAccountBalance  float64   160829         0\n",
       "6          TransactionDate   object       55         0\n",
       "7          TransactionTime    int64    81862         0\n",
       "8  TransactionAmount (INR)  float64    92448         0"
      ]
     },
     "execution_count": 10,
     "metadata": {},
     "output_type": "execute_result"
    }
   ],
   "source": [
    "check(data)"
   ]
  },
  {
   "cell_type": "code",
   "execution_count": 11,
   "id": "8de00b97",
   "metadata": {
    "execution": {
     "iopub.execute_input": "2023-09-14T08:37:57.753181Z",
     "iopub.status.busy": "2023-09-14T08:37:57.752238Z",
     "iopub.status.idle": "2023-09-14T08:37:57.836990Z",
     "shell.execute_reply": "2023-09-14T08:37:57.835831Z"
    },
    "papermill": {
     "duration": 0.097915,
     "end_time": "2023-09-14T08:37:57.839627",
     "exception": false,
     "start_time": "2023-09-14T08:37:57.741712",
     "status": "completed"
    },
    "tags": []
   },
   "outputs": [],
   "source": [
    "data.fillna({\n",
    "    \"CustGender\":'M'\n",
    "},inplace=True)"
   ]
  },
  {
   "cell_type": "code",
   "execution_count": 12,
   "id": "4e7f1199",
   "metadata": {
    "execution": {
     "iopub.execute_input": "2023-09-14T08:37:57.859870Z",
     "iopub.status.busy": "2023-09-14T08:37:57.859193Z",
     "iopub.status.idle": "2023-09-14T08:38:56.891736Z",
     "shell.execute_reply": "2023-09-14T08:38:56.890644Z"
    },
    "papermill": {
     "duration": 59.045242,
     "end_time": "2023-09-14T08:38:56.894372",
     "exception": false,
     "start_time": "2023-09-14T08:37:57.849130",
     "status": "completed"
    },
    "tags": []
   },
   "outputs": [
    {
     "name": "stderr",
     "output_type": "stream",
     "text": [
      "/tmp/ipykernel_20/233682975.py:1: UserWarning: Could not infer format, so each element will be parsed individually, falling back to `dateutil`. To ensure parsing is consistent and as-expected, please specify a format.\n",
      "  data[\"CustomerDOB\"]=pd.to_datetime(data[\"CustomerDOB\"])\n",
      "/tmp/ipykernel_20/233682975.py:2: UserWarning: Could not infer format, so each element will be parsed individually, falling back to `dateutil`. To ensure parsing is consistent and as-expected, please specify a format.\n",
      "  data[\"TransactionDate\"]=pd.to_datetime(data[\"TransactionDate\"])\n"
     ]
    }
   ],
   "source": [
    "data[\"CustomerDOB\"]=pd.to_datetime(data[\"CustomerDOB\"])\n",
    "data[\"TransactionDate\"]=pd.to_datetime(data[\"TransactionDate\"])\n",
    "\n",
    "data[\"CustomerAge\"] = data[\"TransactionDate\"].dt.year-data[\"CustomerDOB\"].dt.year"
   ]
  },
  {
   "cell_type": "code",
   "execution_count": 13,
   "id": "7b60f183",
   "metadata": {
    "execution": {
     "iopub.execute_input": "2023-09-14T08:38:56.914636Z",
     "iopub.status.busy": "2023-09-14T08:38:56.914196Z",
     "iopub.status.idle": "2023-09-14T08:38:56.928195Z",
     "shell.execute_reply": "2023-09-14T08:38:56.927130Z"
    },
    "papermill": {
     "duration": 0.027046,
     "end_time": "2023-09-14T08:38:56.930684",
     "exception": false,
     "start_time": "2023-09-14T08:38:56.903638",
     "status": "completed"
    },
    "tags": []
   },
   "outputs": [
    {
     "data": {
      "text/plain": [
       "array([ 22, -41,  20,  43,  28, -56,  24,  34,  32,  38, -52, 216,  27,\n",
       "        25,  31,  23,  30, -51,  37,  39,  19,  33,  26,  36,  35, -50,\n",
       "        29,  41,  21,  42, -55, -16, -43,  17, -49, -25, -38, -54,  40,\n",
       "        -5, -53,  12, -27,  18, -35, -44, -40, -37, -31,  16, -48, -32,\n",
       "       -46, -36, -39, -45, -20, -47, -26, -28, -22, -33, -42, -34, -30,\n",
       "        14, -29, -21,   9,  15, -23, -24,   3,  13,  11,   6,   5, -17,\n",
       "       -18, -11,  -3, -12, -14,   7, -15, -13, -19,   1,   0,  10,   8,\n",
       "         4,  -7, -10,  -8,  -6,   2,  -4,  -9,  -2], dtype=int32)"
      ]
     },
     "execution_count": 13,
     "metadata": {},
     "output_type": "execute_result"
    }
   ],
   "source": [
    "data[\"CustomerAge\"].unique()"
   ]
  },
  {
   "cell_type": "code",
   "execution_count": 14,
   "id": "dbeaa793",
   "metadata": {
    "execution": {
     "iopub.execute_input": "2023-09-14T08:38:56.951539Z",
     "iopub.status.busy": "2023-09-14T08:38:56.951156Z",
     "iopub.status.idle": "2023-09-14T08:38:56.960453Z",
     "shell.execute_reply": "2023-09-14T08:38:56.959338Z"
    },
    "papermill": {
     "duration": 0.022386,
     "end_time": "2023-09-14T08:38:56.962758",
     "exception": false,
     "start_time": "2023-09-14T08:38:56.940372",
     "status": "completed"
    },
    "tags": []
   },
   "outputs": [],
   "source": [
    "data[\"TransactionDate1\"]=data[\"TransactionDate\"]\n",
    "data[\"TransactionDate2\"]=data[\"TransactionDate\"]"
   ]
  },
  {
   "cell_type": "code",
   "execution_count": 15,
   "id": "870a70e1",
   "metadata": {
    "execution": {
     "iopub.execute_input": "2023-09-14T08:38:56.983826Z",
     "iopub.status.busy": "2023-09-14T08:38:56.983377Z",
     "iopub.status.idle": "2023-09-14T08:39:01.214192Z",
     "shell.execute_reply": "2023-09-14T08:39:01.212896Z"
    },
    "papermill": {
     "duration": 4.244426,
     "end_time": "2023-09-14T08:39:01.216843",
     "exception": false,
     "start_time": "2023-09-14T08:38:56.972417",
     "status": "completed"
    },
    "tags": []
   },
   "outputs": [
    {
     "data": {
      "text/html": [
       "<div>\n",
       "<style scoped>\n",
       "    .dataframe tbody tr th:only-of-type {\n",
       "        vertical-align: middle;\n",
       "    }\n",
       "\n",
       "    .dataframe tbody tr th {\n",
       "        vertical-align: top;\n",
       "    }\n",
       "\n",
       "    .dataframe thead th {\n",
       "        text-align: right;\n",
       "    }\n",
       "</style>\n",
       "<table border=\"1\" class=\"dataframe\">\n",
       "  <thead>\n",
       "    <tr style=\"text-align: right;\">\n",
       "      <th></th>\n",
       "      <th>CustomerID</th>\n",
       "      <th>TransactionID</th>\n",
       "      <th>CustGender</th>\n",
       "      <th>CustLocation</th>\n",
       "      <th>CustAccountBalance</th>\n",
       "      <th>TransactionAmount (INR)</th>\n",
       "      <th>CustomerAge</th>\n",
       "      <th>TransactionDate2</th>\n",
       "      <th>TransactionDate1</th>\n",
       "      <th>TransactionDate</th>\n",
       "    </tr>\n",
       "  </thead>\n",
       "  <tbody>\n",
       "    <tr>\n",
       "      <th>0</th>\n",
       "      <td>C1010011</td>\n",
       "      <td>2</td>\n",
       "      <td>F</td>\n",
       "      <td>NOIDA</td>\n",
       "      <td>76340.635</td>\n",
       "      <td>2553.0</td>\n",
       "      <td>33</td>\n",
       "      <td>2016-09-26</td>\n",
       "      <td>2016-09-08</td>\n",
       "      <td>2016-09-17</td>\n",
       "    </tr>\n",
       "    <tr>\n",
       "      <th>1</th>\n",
       "      <td>C1010012</td>\n",
       "      <td>1</td>\n",
       "      <td>M</td>\n",
       "      <td>MUMBAI</td>\n",
       "      <td>24204.490</td>\n",
       "      <td>1499.0</td>\n",
       "      <td>22</td>\n",
       "      <td>2016-08-14</td>\n",
       "      <td>2016-08-14</td>\n",
       "      <td>2016-08-14</td>\n",
       "    </tr>\n",
       "    <tr>\n",
       "      <th>2</th>\n",
       "      <td>C1010014</td>\n",
       "      <td>2</td>\n",
       "      <td>F</td>\n",
       "      <td>MUMBAI</td>\n",
       "      <td>100112.950</td>\n",
       "      <td>727.5</td>\n",
       "      <td>32</td>\n",
       "      <td>2016-07-08</td>\n",
       "      <td>2016-01-08</td>\n",
       "      <td>2016-04-08</td>\n",
       "    </tr>\n",
       "    <tr>\n",
       "      <th>3</th>\n",
       "      <td>C1010018</td>\n",
       "      <td>1</td>\n",
       "      <td>F</td>\n",
       "      <td>CHAMPARAN</td>\n",
       "      <td>496.180</td>\n",
       "      <td>30.0</td>\n",
       "      <td>26</td>\n",
       "      <td>2016-09-15</td>\n",
       "      <td>2016-09-15</td>\n",
       "      <td>2016-09-15</td>\n",
       "    </tr>\n",
       "    <tr>\n",
       "      <th>4</th>\n",
       "      <td>C1010024</td>\n",
       "      <td>1</td>\n",
       "      <td>M</td>\n",
       "      <td>KOLKATA</td>\n",
       "      <td>87058.650</td>\n",
       "      <td>5000.0</td>\n",
       "      <td>-49</td>\n",
       "      <td>2016-08-18</td>\n",
       "      <td>2016-08-18</td>\n",
       "      <td>2016-08-18</td>\n",
       "    </tr>\n",
       "  </tbody>\n",
       "</table>\n",
       "</div>"
      ],
      "text/plain": [
       "  CustomerID  TransactionID CustGender CustLocation  CustAccountBalance  \\\n",
       "0   C1010011              2          F        NOIDA           76340.635   \n",
       "1   C1010012              1          M       MUMBAI           24204.490   \n",
       "2   C1010014              2          F       MUMBAI          100112.950   \n",
       "3   C1010018              1          F    CHAMPARAN             496.180   \n",
       "4   C1010024              1          M      KOLKATA           87058.650   \n",
       "\n",
       "   TransactionAmount (INR)  CustomerAge TransactionDate2 TransactionDate1  \\\n",
       "0                   2553.0           33       2016-09-26       2016-09-08   \n",
       "1                   1499.0           22       2016-08-14       2016-08-14   \n",
       "2                    727.5           32       2016-07-08       2016-01-08   \n",
       "3                     30.0           26       2016-09-15       2016-09-15   \n",
       "4                   5000.0          -49       2016-08-18       2016-08-18   \n",
       "\n",
       "  TransactionDate  \n",
       "0      2016-09-17  \n",
       "1      2016-08-14  \n",
       "2      2016-04-08  \n",
       "3      2016-09-15  \n",
       "4      2016-08-18  "
      ]
     },
     "execution_count": 15,
     "metadata": {},
     "output_type": "execute_result"
    }
   ],
   "source": [
    "RMF_data = data.groupby(\"CustomerID\").agg({\n",
    "    \"TransactionID\": \"count\",\n",
    "    \"CustGender\":\"first\",\n",
    "    \"CustLocation\":\"first\",\n",
    "    \"CustAccountBalance\":\"mean\",\n",
    "    \"TransactionAmount (INR)\":\"mean\",\n",
    "    \"CustomerAge\":\"max\",\n",
    "    \"TransactionDate2\":\"max\",\n",
    "    \"TransactionDate1\":\"min\",\n",
    "    \"TransactionDate\":\"median\"\n",
    "})\n",
    "RMF_data = RMF_data.reset_index()\n",
    "RMF_data.head()"
   ]
  },
  {
   "cell_type": "code",
   "execution_count": 16,
   "id": "37e7b0fa",
   "metadata": {
    "execution": {
     "iopub.execute_input": "2023-09-14T08:39:01.238304Z",
     "iopub.status.busy": "2023-09-14T08:39:01.237555Z",
     "iopub.status.idle": "2023-09-14T08:39:01.244841Z",
     "shell.execute_reply": "2023-09-14T08:39:01.243776Z"
    },
    "papermill": {
     "duration": 0.020073,
     "end_time": "2023-09-14T08:39:01.246866",
     "exception": false,
     "start_time": "2023-09-14T08:39:01.226793",
     "status": "completed"
    },
    "tags": []
   },
   "outputs": [
    {
     "data": {
      "text/plain": [
       "(880115, 10)"
      ]
     },
     "execution_count": 16,
     "metadata": {},
     "output_type": "execute_result"
    }
   ],
   "source": [
    "RMF_data.shape"
   ]
  },
  {
   "cell_type": "code",
   "execution_count": 17,
   "id": "b47d043e",
   "metadata": {
    "execution": {
     "iopub.execute_input": "2023-09-14T08:39:01.268292Z",
     "iopub.status.busy": "2023-09-14T08:39:01.267644Z",
     "iopub.status.idle": "2023-09-14T08:39:01.307848Z",
     "shell.execute_reply": "2023-09-14T08:39:01.306790Z"
    },
    "papermill": {
     "duration": 0.053947,
     "end_time": "2023-09-14T08:39:01.310397",
     "exception": false,
     "start_time": "2023-09-14T08:39:01.256450",
     "status": "completed"
    },
    "tags": []
   },
   "outputs": [],
   "source": [
    "RMF_data.drop(columns=[\"CustomerID\"],inplace=True)"
   ]
  },
  {
   "cell_type": "code",
   "execution_count": 18,
   "id": "e06573f9",
   "metadata": {
    "execution": {
     "iopub.execute_input": "2023-09-14T08:39:01.331343Z",
     "iopub.status.busy": "2023-09-14T08:39:01.330975Z",
     "iopub.status.idle": "2023-09-14T08:39:01.341685Z",
     "shell.execute_reply": "2023-09-14T08:39:01.340865Z"
    },
    "papermill": {
     "duration": 0.023451,
     "end_time": "2023-09-14T08:39:01.343539",
     "exception": false,
     "start_time": "2023-09-14T08:39:01.320088",
     "status": "completed"
    },
    "tags": []
   },
   "outputs": [
    {
     "data": {
      "text/plain": [
       "0        2016-09-08\n",
       "1        2016-08-14\n",
       "2        2016-01-08\n",
       "3        2016-09-15\n",
       "4        2016-08-18\n",
       "            ...    \n",
       "880110   2016-07-08\n",
       "880111   2016-09-15\n",
       "880112   2016-08-18\n",
       "880113   2016-08-28\n",
       "880114   2016-09-25\n",
       "Name: TransactionDate1, Length: 880115, dtype: datetime64[ns]"
      ]
     },
     "execution_count": 18,
     "metadata": {},
     "output_type": "execute_result"
    }
   ],
   "source": [
    "RMF_data['Recency']=RMF_data['TransactionDate2']\n",
    "RMF_data['TransactionDate1']"
   ]
  },
  {
   "cell_type": "code",
   "execution_count": 19,
   "id": "c2ac1981",
   "metadata": {
    "execution": {
     "iopub.execute_input": "2023-09-14T08:39:01.365367Z",
     "iopub.status.busy": "2023-09-14T08:39:01.364576Z",
     "iopub.status.idle": "2023-09-14T08:39:02.085625Z",
     "shell.execute_reply": "2023-09-14T08:39:02.084479Z"
    },
    "papermill": {
     "duration": 0.735098,
     "end_time": "2023-09-14T08:39:02.088657",
     "exception": false,
     "start_time": "2023-09-14T08:39:01.353559",
     "status": "completed"
    },
    "tags": []
   },
   "outputs": [
    {
     "data": {
      "text/html": [
       "<div>\n",
       "<style scoped>\n",
       "    .dataframe tbody tr th:only-of-type {\n",
       "        vertical-align: middle;\n",
       "    }\n",
       "\n",
       "    .dataframe tbody tr th {\n",
       "        vertical-align: top;\n",
       "    }\n",
       "\n",
       "    .dataframe thead th {\n",
       "        text-align: right;\n",
       "    }\n",
       "</style>\n",
       "<table border=\"1\" class=\"dataframe\">\n",
       "  <thead>\n",
       "    <tr style=\"text-align: right;\">\n",
       "      <th></th>\n",
       "      <th>TransactionID</th>\n",
       "      <th>CustGender</th>\n",
       "      <th>CustLocation</th>\n",
       "      <th>CustAccountBalance</th>\n",
       "      <th>TransactionAmount (INR)</th>\n",
       "      <th>CustomerAge</th>\n",
       "      <th>TransactionDate2</th>\n",
       "      <th>TransactionDate1</th>\n",
       "      <th>TransactionDate</th>\n",
       "      <th>Recency</th>\n",
       "    </tr>\n",
       "  </thead>\n",
       "  <tbody>\n",
       "    <tr>\n",
       "      <th>0</th>\n",
       "      <td>2</td>\n",
       "      <td>F</td>\n",
       "      <td>NOIDA</td>\n",
       "      <td>76340.635</td>\n",
       "      <td>2553.0</td>\n",
       "      <td>33</td>\n",
       "      <td>2016-09-26</td>\n",
       "      <td>2016-09-08</td>\n",
       "      <td>2016-09-17</td>\n",
       "      <td>2016-09-26</td>\n",
       "    </tr>\n",
       "    <tr>\n",
       "      <th>1</th>\n",
       "      <td>1</td>\n",
       "      <td>M</td>\n",
       "      <td>MUMBAI</td>\n",
       "      <td>24204.490</td>\n",
       "      <td>1499.0</td>\n",
       "      <td>22</td>\n",
       "      <td>2016-08-14</td>\n",
       "      <td>2016-08-14</td>\n",
       "      <td>2016-08-14</td>\n",
       "      <td>2016-08-14</td>\n",
       "    </tr>\n",
       "    <tr>\n",
       "      <th>2</th>\n",
       "      <td>2</td>\n",
       "      <td>F</td>\n",
       "      <td>MUMBAI</td>\n",
       "      <td>100112.950</td>\n",
       "      <td>727.5</td>\n",
       "      <td>32</td>\n",
       "      <td>2016-07-08</td>\n",
       "      <td>2016-01-08</td>\n",
       "      <td>2016-04-08</td>\n",
       "      <td>2016-07-08</td>\n",
       "    </tr>\n",
       "    <tr>\n",
       "      <th>3</th>\n",
       "      <td>1</td>\n",
       "      <td>F</td>\n",
       "      <td>CHAMPARAN</td>\n",
       "      <td>496.180</td>\n",
       "      <td>30.0</td>\n",
       "      <td>26</td>\n",
       "      <td>2016-09-15</td>\n",
       "      <td>2016-09-15</td>\n",
       "      <td>2016-09-15</td>\n",
       "      <td>2016-09-15</td>\n",
       "    </tr>\n",
       "    <tr>\n",
       "      <th>4</th>\n",
       "      <td>1</td>\n",
       "      <td>M</td>\n",
       "      <td>KOLKATA</td>\n",
       "      <td>87058.650</td>\n",
       "      <td>5000.0</td>\n",
       "      <td>-49</td>\n",
       "      <td>2016-08-18</td>\n",
       "      <td>2016-08-18</td>\n",
       "      <td>2016-08-18</td>\n",
       "      <td>2016-08-18</td>\n",
       "    </tr>\n",
       "  </tbody>\n",
       "</table>\n",
       "</div>"
      ],
      "text/plain": [
       "   TransactionID CustGender CustLocation  CustAccountBalance  \\\n",
       "0              2          F        NOIDA           76340.635   \n",
       "1              1          M       MUMBAI           24204.490   \n",
       "2              2          F       MUMBAI          100112.950   \n",
       "3              1          F    CHAMPARAN             496.180   \n",
       "4              1          M      KOLKATA           87058.650   \n",
       "\n",
       "   TransactionAmount (INR)  CustomerAge TransactionDate2 TransactionDate1  \\\n",
       "0                   2553.0           33       2016-09-26       2016-09-08   \n",
       "1                   1499.0           22       2016-08-14       2016-08-14   \n",
       "2                    727.5           32       2016-07-08       2016-01-08   \n",
       "3                     30.0           26       2016-09-15       2016-09-15   \n",
       "4                   5000.0          -49       2016-08-18       2016-08-18   \n",
       "\n",
       "  TransactionDate     Recency  \n",
       "0      2016-09-17  2016-09-26  \n",
       "1      2016-08-14  2016-08-14  \n",
       "2      2016-04-08  2016-07-08  \n",
       "3      2016-09-15  2016-09-15  \n",
       "4      2016-08-18  2016-08-18  "
      ]
     },
     "execution_count": 19,
     "metadata": {},
     "output_type": "execute_result"
    }
   ],
   "source": [
    "RMF_data['Recency']=RMF_data['Recency'].astype(str)\n",
    "RMF_data.head()"
   ]
  },
  {
   "cell_type": "code",
   "execution_count": 20,
   "id": "28101456",
   "metadata": {
    "execution": {
     "iopub.execute_input": "2023-09-14T08:39:02.110983Z",
     "iopub.status.busy": "2023-09-14T08:39:02.110550Z",
     "iopub.status.idle": "2023-09-14T08:39:03.358497Z",
     "shell.execute_reply": "2023-09-14T08:39:03.357408Z"
    },
    "papermill": {
     "duration": 1.261886,
     "end_time": "2023-09-14T08:39:03.361059",
     "exception": false,
     "start_time": "2023-09-14T08:39:02.099173",
     "status": "completed"
    },
    "tags": []
   },
   "outputs": [],
   "source": [
    "RMF_data['Recency']=RMF_data['Recency'].apply(lambda x :re.search('\\d+',x).group())\n",
    "RMF_data['Recency']=RMF_data['Recency'].astype(int)"
   ]
  },
  {
   "cell_type": "code",
   "execution_count": 21,
   "id": "42f15ccd",
   "metadata": {
    "execution": {
     "iopub.execute_input": "2023-09-14T08:39:03.382849Z",
     "iopub.status.busy": "2023-09-14T08:39:03.382434Z",
     "iopub.status.idle": "2023-09-14T08:39:03.387940Z",
     "shell.execute_reply": "2023-09-14T08:39:03.386686Z"
    },
    "papermill": {
     "duration": 0.019229,
     "end_time": "2023-09-14T08:39:03.390400",
     "exception": false,
     "start_time": "2023-09-14T08:39:03.371171",
     "status": "completed"
    },
    "tags": []
   },
   "outputs": [],
   "source": [
    "def rep_0(i):\n",
    "    if i==0:\n",
    "        return 1\n",
    "    else:\n",
    "        return i\n",
    "    RMF_data['Recency']=RMF_data['Recency'].apply(rep_0)"
   ]
  },
  {
   "cell_type": "code",
   "execution_count": 22,
   "id": "537dc834",
   "metadata": {
    "execution": {
     "iopub.execute_input": "2023-09-14T08:39:03.413103Z",
     "iopub.status.busy": "2023-09-14T08:39:03.412176Z",
     "iopub.status.idle": "2023-09-14T08:39:03.468629Z",
     "shell.execute_reply": "2023-09-14T08:39:03.467380Z"
    },
    "papermill": {
     "duration": 0.070434,
     "end_time": "2023-09-14T08:39:03.471173",
     "exception": false,
     "start_time": "2023-09-14T08:39:03.400739",
     "status": "completed"
    },
    "tags": []
   },
   "outputs": [
    {
     "data": {
      "text/html": [
       "<div>\n",
       "<style scoped>\n",
       "    .dataframe tbody tr th:only-of-type {\n",
       "        vertical-align: middle;\n",
       "    }\n",
       "\n",
       "    .dataframe tbody tr th {\n",
       "        vertical-align: top;\n",
       "    }\n",
       "\n",
       "    .dataframe thead th {\n",
       "        text-align: right;\n",
       "    }\n",
       "</style>\n",
       "<table border=\"1\" class=\"dataframe\">\n",
       "  <thead>\n",
       "    <tr style=\"text-align: right;\">\n",
       "      <th></th>\n",
       "      <th>TransactionID</th>\n",
       "      <th>CustGender</th>\n",
       "      <th>CustLocation</th>\n",
       "      <th>CustAccountBalance</th>\n",
       "      <th>TransactionAmount (INR)</th>\n",
       "      <th>CustomerAge</th>\n",
       "      <th>TransactionDate</th>\n",
       "      <th>Recency</th>\n",
       "    </tr>\n",
       "  </thead>\n",
       "  <tbody>\n",
       "    <tr>\n",
       "      <th>0</th>\n",
       "      <td>2</td>\n",
       "      <td>F</td>\n",
       "      <td>NOIDA</td>\n",
       "      <td>76340.635</td>\n",
       "      <td>2553.0</td>\n",
       "      <td>33</td>\n",
       "      <td>2016-09-17</td>\n",
       "      <td>2016</td>\n",
       "    </tr>\n",
       "    <tr>\n",
       "      <th>1</th>\n",
       "      <td>1</td>\n",
       "      <td>M</td>\n",
       "      <td>MUMBAI</td>\n",
       "      <td>24204.490</td>\n",
       "      <td>1499.0</td>\n",
       "      <td>22</td>\n",
       "      <td>2016-08-14</td>\n",
       "      <td>2016</td>\n",
       "    </tr>\n",
       "    <tr>\n",
       "      <th>2</th>\n",
       "      <td>2</td>\n",
       "      <td>F</td>\n",
       "      <td>MUMBAI</td>\n",
       "      <td>100112.950</td>\n",
       "      <td>727.5</td>\n",
       "      <td>32</td>\n",
       "      <td>2016-04-08</td>\n",
       "      <td>2016</td>\n",
       "    </tr>\n",
       "  </tbody>\n",
       "</table>\n",
       "</div>"
      ],
      "text/plain": [
       "   TransactionID CustGender CustLocation  CustAccountBalance  \\\n",
       "0              2          F        NOIDA           76340.635   \n",
       "1              1          M       MUMBAI           24204.490   \n",
       "2              2          F       MUMBAI          100112.950   \n",
       "\n",
       "   TransactionAmount (INR)  CustomerAge TransactionDate  Recency  \n",
       "0                   2553.0           33      2016-09-17     2016  \n",
       "1                   1499.0           22      2016-08-14     2016  \n",
       "2                    727.5           32      2016-04-08     2016  "
      ]
     },
     "execution_count": 22,
     "metadata": {},
     "output_type": "execute_result"
    }
   ],
   "source": [
    "RMF_data.drop(columns=[\"TransactionDate1\",\"TransactionDate2\"],inplace=True)\n",
    "RMF_data.head(3)"
   ]
  },
  {
   "cell_type": "code",
   "execution_count": 23,
   "id": "46fc6d4b",
   "metadata": {
    "execution": {
     "iopub.execute_input": "2023-09-14T08:39:03.493722Z",
     "iopub.status.busy": "2023-09-14T08:39:03.493325Z",
     "iopub.status.idle": "2023-09-14T08:39:03.499282Z",
     "shell.execute_reply": "2023-09-14T08:39:03.498080Z"
    },
    "papermill": {
     "duration": 0.019983,
     "end_time": "2023-09-14T08:39:03.501574",
     "exception": false,
     "start_time": "2023-09-14T08:39:03.481591",
     "status": "completed"
    },
    "tags": []
   },
   "outputs": [],
   "source": [
    "RMF_data.rename(columns={\"TransactionID\":\"Frequency\"},inplace=True)"
   ]
  },
  {
   "cell_type": "code",
   "execution_count": 24,
   "id": "e1acdc62",
   "metadata": {
    "execution": {
     "iopub.execute_input": "2023-09-14T08:39:03.524198Z",
     "iopub.status.busy": "2023-09-14T08:39:03.523689Z",
     "iopub.status.idle": "2023-09-14T08:39:03.842325Z",
     "shell.execute_reply": "2023-09-14T08:39:03.841027Z"
    },
    "papermill": {
     "duration": 0.33286,
     "end_time": "2023-09-14T08:39:03.844916",
     "exception": false,
     "start_time": "2023-09-14T08:39:03.512056",
     "status": "completed"
    },
    "tags": []
   },
   "outputs": [
    {
     "data": {
      "text/html": [
       "<div>\n",
       "<style scoped>\n",
       "    .dataframe tbody tr th:only-of-type {\n",
       "        vertical-align: middle;\n",
       "    }\n",
       "\n",
       "    .dataframe tbody tr th {\n",
       "        vertical-align: top;\n",
       "    }\n",
       "\n",
       "    .dataframe thead th {\n",
       "        text-align: right;\n",
       "    }\n",
       "</style>\n",
       "<table border=\"1\" class=\"dataframe\">\n",
       "  <thead>\n",
       "    <tr style=\"text-align: right;\">\n",
       "      <th></th>\n",
       "      <th>lower</th>\n",
       "      <th>upper</th>\n",
       "      <th>cutliers</th>\n",
       "      <th>perc%</th>\n",
       "    </tr>\n",
       "  </thead>\n",
       "  <tbody>\n",
       "    <tr>\n",
       "      <th>Frequency</th>\n",
       "      <td>1.0000</td>\n",
       "      <td>0.000000e+00</td>\n",
       "      <td>880115</td>\n",
       "      <td>100.0</td>\n",
       "    </tr>\n",
       "    <tr>\n",
       "      <th>CustAccountBalance</th>\n",
       "      <td>-78311.0400</td>\n",
       "      <td>5.159844e+09</td>\n",
       "      <td>0</td>\n",
       "      <td>0.0</td>\n",
       "    </tr>\n",
       "    <tr>\n",
       "      <th>TransactionAmount (INR)</th>\n",
       "      <td>-1385.4825</td>\n",
       "      <td>1.956039e+06</td>\n",
       "      <td>0</td>\n",
       "      <td>0.0</td>\n",
       "    </tr>\n",
       "    <tr>\n",
       "      <th>CustomerAge</th>\n",
       "      <td>11.5000</td>\n",
       "      <td>4.590000e+02</td>\n",
       "      <td>60739</td>\n",
       "      <td>6.9</td>\n",
       "    </tr>\n",
       "    <tr>\n",
       "      <th>Recency</th>\n",
       "      <td>2016.0000</td>\n",
       "      <td>0.000000e+00</td>\n",
       "      <td>880115</td>\n",
       "      <td>100.0</td>\n",
       "    </tr>\n",
       "  </tbody>\n",
       "</table>\n",
       "</div>"
      ],
      "text/plain": [
       "                              lower         upper  cutliers  perc%\n",
       "Frequency                    1.0000  0.000000e+00    880115  100.0\n",
       "CustAccountBalance      -78311.0400  5.159844e+09         0    0.0\n",
       "TransactionAmount (INR)  -1385.4825  1.956039e+06         0    0.0\n",
       "CustomerAge                 11.5000  4.590000e+02     60739    6.9\n",
       "Recency                   2016.0000  0.000000e+00    880115  100.0"
      ]
     },
     "execution_count": 24,
     "metadata": {},
     "output_type": "execute_result"
    }
   ],
   "source": [
    "lower_list=[]\n",
    "upper_list=[]\n",
    "num_list=[]\n",
    "perc_list=[]\n",
    "cols=['Frequency','CustAccountBalance','TransactionAmount (INR)','CustomerAge','Recency']\n",
    "for i in cols:\n",
    "        Q1 =RMF_data[i].quantile(0.25)\n",
    "        Q3 =RMF_data[i].quantile(0.75)\n",
    "        IQR = Q3-Q1\n",
    "        lower = Q1-1.5*IQR\n",
    "        upper = Q3*1.5*IQR\n",
    "        num=RMF_data[(RMF_data[i] < lower)|(RMF_data[i] > upper)].shape[0]\n",
    "        perc = (num / RMF_data.shape[0])*100\n",
    "        lower_list.append(lower)\n",
    "        upper_list.append(upper)\n",
    "        num_list.append(num)\n",
    "        perc_list.append(round(perc,2))\n",
    "dic={'lower':lower_list,'upper':upper_list,'cutliers':num_list,'perc%':perc_list}\n",
    "cutliers_df=pd.DataFrame(dic,index=['Frequency','CustAccountBalance','TransactionAmount (INR)','CustomerAge','Recency'])\n",
    "cutliers_df"
   ]
  }
 ],
 "kernelspec": {
  "display_name": "Python 3",
  "language": "python",
  "name": "python3"
 },
 "language_info": {
  "codemirror_mode": {
   "name": "ipython",
   "version": 3
  },
  "file_extension": ".py",
  "mimetype": "text/x-python",
  "name": "python",
  "nbconvert_exporter": "python",
  "pygments_lexer": "ipython3",
  "version": "3.6.4"
 },
 "metadata": {
  "kernelspec": {
   "display_name": "Python 3",
   "language": "python",
   "name": "python3"
  },
  "language_info": {
   "codemirror_mode": {
    "name": "ipython",
    "version": 3
   },
   "file_extension": ".py",
   "mimetype": "text/x-python",
   "name": "python",
   "nbconvert_exporter": "python",
   "pygments_lexer": "ipython3",
   "version": "3.10.12"
  },
  "papermill": {
   "default_parameters": {},
   "duration": 93.744502,
   "end_time": "2023-09-14T08:39:04.778053",
   "environment_variables": {},
   "exception": null,
   "input_path": "__notebook__.ipynb",
   "output_path": "__notebook__.ipynb",
   "parameters": {},
   "start_time": "2023-09-14T08:37:31.033551",
   "version": "2.4.0"
  }
 },
 "nbformat": 4,
 "nbformat_minor": 5
}
