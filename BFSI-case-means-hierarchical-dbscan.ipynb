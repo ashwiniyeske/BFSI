{
 "cells": [
  {
   "cell_type": "code",
   "execution_count": 1,
   "id": "3b679b43",
   "metadata": {
    "_cell_guid": "b1076dfc-b9ad-4769-8c92-a6c4dae69d19",
    "_uuid": "8f2839f25d086af736a60e9eeb907d3b93b6e0e5",
    "execution": {
     "iopub.execute_input": "2023-09-16T06:58:24.748435Z",
     "iopub.status.busy": "2023-09-16T06:58:24.747759Z",
     "iopub.status.idle": "2023-09-16T06:58:25.552458Z",
     "shell.execute_reply": "2023-09-16T06:58:25.551443Z"
    },
    "papermill": {
     "duration": 0.824948,
     "end_time": "2023-09-16T06:58:25.554989",
     "exception": false,
     "start_time": "2023-09-16T06:58:24.730041",
     "status": "completed"
    },
    "tags": []
   },
   "outputs": [
    {
     "name": "stdout",
     "output_type": "stream",
     "text": [
      "/kaggle/input/bank-customer-segmentation/bank_transactions.csv\n"
     ]
    }
   ],
   "source": [
    "# This Python 3 environment comes with many helpful analytics libraries installed\n",
    "# It is defined by the kaggle/python Docker image: https://github.com/kaggle/docker-python\n",
    "# For example, here's several helpful packages to load\n",
    "\n",
    "import numpy as np # linear algebra\n",
    "import pandas as pd # data processing, CSV file I/O (e.g. pd.read_csv)\n",
    "\n",
    "# Input data files are available in the read-only \"../input/\" directory\n",
    "# For example, running this (by clicking run or pressing Shift+Enter) will list all files under the input directory\n",
    "\n",
    "import os\n",
    "for dirname, _, filenames in os.walk('/kaggle/input'):\n",
    "    for filename in filenames:\n",
    "        print(os.path.join(dirname, filename))\n",
    "\n",
    "# You can write up to 20GB to the current directory (/kaggle/working/) that gets preserved as output when you create a version using \"Save & Run All\" \n",
    "# You can also write temporary files to /kaggle/temp/, but they won't be saved outside of the current session"
   ]
  },
  {
   "cell_type": "code",
   "execution_count": 2,
   "id": "93dba3ff",
   "metadata": {
    "execution": {
     "iopub.execute_input": "2023-09-16T06:58:25.588507Z",
     "iopub.status.busy": "2023-09-16T06:58:25.586720Z",
     "iopub.status.idle": "2023-09-16T06:58:27.420348Z",
     "shell.execute_reply": "2023-09-16T06:58:27.418962Z"
    },
    "papermill": {
     "duration": 1.85218,
     "end_time": "2023-09-16T06:58:27.422904",
     "exception": false,
     "start_time": "2023-09-16T06:58:25.570724",
     "status": "completed"
    },
    "tags": []
   },
   "outputs": [
    {
     "name": "stderr",
     "output_type": "stream",
     "text": [
      "/opt/conda/lib/python3.10/site-packages/scipy/__init__.py:146: UserWarning: A NumPy version >=1.16.5 and <1.23.0 is required for this version of SciPy (detected version 1.23.5\n",
      "  warnings.warn(f\"A NumPy version >={np_minversion} and <{np_maxversion}\"\n"
     ]
    }
   ],
   "source": [
    "import pandas as pd\n",
    "import numpy as np\n",
    "\n",
    "import re\n",
    "\n",
    "from sklearn.cluster import KMeans\n",
    "from sklearn.cluster import AgglomerativeClustering\n",
    "from sklearn.cluster import SpectralClustering\n",
    "from sklearn.cluster import DBSCAN\n",
    "\n",
    "from sklearn.preprocessing import MinMaxScaler\n",
    "from sklearn.preprocessing import StandardScaler\n",
    "\n",
    "from sklearn.metrics import silhouette_score,davies_bouldin_score\n",
    "from sklearn.decomposition import PCA\n",
    "\n",
    "import matplotlib.pyplot as plt\n",
    "from mpl_toolkits import mplot3d\n",
    "import seaborn as sns\n",
    "import scipy.cluster.hierarchy as shc"
   ]
  },
  {
   "cell_type": "code",
   "execution_count": 3,
   "id": "551a355f",
   "metadata": {
    "execution": {
     "iopub.execute_input": "2023-09-16T06:58:27.465844Z",
     "iopub.status.busy": "2023-09-16T06:58:27.465312Z",
     "iopub.status.idle": "2023-09-16T06:58:42.033299Z",
     "shell.execute_reply": "2023-09-16T06:58:42.032164Z"
    },
    "papermill": {
     "duration": 14.595386,
     "end_time": "2023-09-16T06:58:42.036262",
     "exception": false,
     "start_time": "2023-09-16T06:58:27.440876",
     "status": "completed"
    },
    "tags": []
   },
   "outputs": [
    {
     "name": "stdout",
     "output_type": "stream",
     "text": [
      "Collecting kneed\r\n",
      "  Downloading kneed-0.8.5-py3-none-any.whl (10 kB)\r\n",
      "Requirement already satisfied: numpy>=1.14.2 in /opt/conda/lib/python3.10/site-packages (from kneed) (1.23.5)\r\n",
      "Requirement already satisfied: scipy>=1.0.0 in /opt/conda/lib/python3.10/site-packages (from kneed) (1.11.2)\r\n",
      "Installing collected packages: kneed\r\n",
      "Successfully installed kneed-0.8.5\r\n"
     ]
    }
   ],
   "source": [
    "try:\n",
    "    from kneed import KneeLocator\n",
    "except:\n",
    "    !pip install kneed\n",
    "    from kneed import KneeLocator\n",
    "try:\n",
    "    from yellowbrick.cluster import KElbowVisualizer\n",
    "except:\n",
    "    !pip install -U yellowbrick\n",
    "    from yellowbrick.cluster import KElbowVisualizer\n"
   ]
  },
  {
   "cell_type": "code",
   "execution_count": 4,
   "id": "9edbafbe",
   "metadata": {
    "execution": {
     "iopub.execute_input": "2023-09-16T06:58:42.070762Z",
     "iopub.status.busy": "2023-09-16T06:58:42.069235Z",
     "iopub.status.idle": "2023-09-16T06:58:42.937629Z",
     "shell.execute_reply": "2023-09-16T06:58:42.936557Z"
    },
    "papermill": {
     "duration": 0.88732,
     "end_time": "2023-09-16T06:58:42.940516",
     "exception": false,
     "start_time": "2023-09-16T06:58:42.053196",
     "status": "completed"
    },
    "tags": []
   },
   "outputs": [],
   "source": [
    "try:\n",
    "    import plotly.express as px\n",
    "    import plotly.graph_objects as go\n",
    "    \n",
    "except:\n",
    "    !pip install plotly\n",
    "    import plotly.express as px\n",
    "    import plotly.graph_objects as go\n",
    " "
   ]
  },
  {
   "cell_type": "code",
   "execution_count": 5,
   "id": "ebfb54cf",
   "metadata": {
    "execution": {
     "iopub.execute_input": "2023-09-16T06:58:42.974450Z",
     "iopub.status.busy": "2023-09-16T06:58:42.973991Z",
     "iopub.status.idle": "2023-09-16T06:58:45.813722Z",
     "shell.execute_reply": "2023-09-16T06:58:45.812548Z"
    },
    "papermill": {
     "duration": 2.859101,
     "end_time": "2023-09-16T06:58:45.816253",
     "exception": false,
     "start_time": "2023-09-16T06:58:42.957152",
     "status": "completed"
    },
    "tags": []
   },
   "outputs": [
    {
     "data": {
      "text/html": [
       "<div>\n",
       "<style scoped>\n",
       "    .dataframe tbody tr th:only-of-type {\n",
       "        vertical-align: middle;\n",
       "    }\n",
       "\n",
       "    .dataframe tbody tr th {\n",
       "        vertical-align: top;\n",
       "    }\n",
       "\n",
       "    .dataframe thead th {\n",
       "        text-align: right;\n",
       "    }\n",
       "</style>\n",
       "<table border=\"1\" class=\"dataframe\">\n",
       "  <thead>\n",
       "    <tr style=\"text-align: right;\">\n",
       "      <th></th>\n",
       "      <th>TransactionID</th>\n",
       "      <th>CustomerID</th>\n",
       "      <th>CustomerDOB</th>\n",
       "      <th>CustGender</th>\n",
       "      <th>CustLocation</th>\n",
       "      <th>CustAccountBalance</th>\n",
       "      <th>TransactionDate</th>\n",
       "      <th>TransactionTime</th>\n",
       "      <th>TransactionAmount (INR)</th>\n",
       "    </tr>\n",
       "  </thead>\n",
       "  <tbody>\n",
       "    <tr>\n",
       "      <th>0</th>\n",
       "      <td>T1</td>\n",
       "      <td>C5841053</td>\n",
       "      <td>10/1/94</td>\n",
       "      <td>F</td>\n",
       "      <td>JAMSHEDPUR</td>\n",
       "      <td>17819.05</td>\n",
       "      <td>2/8/16</td>\n",
       "      <td>143207</td>\n",
       "      <td>25.0</td>\n",
       "    </tr>\n",
       "    <tr>\n",
       "      <th>1</th>\n",
       "      <td>T2</td>\n",
       "      <td>C2142763</td>\n",
       "      <td>4/4/57</td>\n",
       "      <td>M</td>\n",
       "      <td>JHAJJAR</td>\n",
       "      <td>2270.69</td>\n",
       "      <td>2/8/16</td>\n",
       "      <td>141858</td>\n",
       "      <td>27999.0</td>\n",
       "    </tr>\n",
       "    <tr>\n",
       "      <th>2</th>\n",
       "      <td>T3</td>\n",
       "      <td>C4417068</td>\n",
       "      <td>26/11/96</td>\n",
       "      <td>F</td>\n",
       "      <td>MUMBAI</td>\n",
       "      <td>17874.44</td>\n",
       "      <td>2/8/16</td>\n",
       "      <td>142712</td>\n",
       "      <td>459.0</td>\n",
       "    </tr>\n",
       "    <tr>\n",
       "      <th>3</th>\n",
       "      <td>T4</td>\n",
       "      <td>C5342380</td>\n",
       "      <td>14/9/73</td>\n",
       "      <td>F</td>\n",
       "      <td>MUMBAI</td>\n",
       "      <td>866503.21</td>\n",
       "      <td>2/8/16</td>\n",
       "      <td>142714</td>\n",
       "      <td>2060.0</td>\n",
       "    </tr>\n",
       "    <tr>\n",
       "      <th>4</th>\n",
       "      <td>T5</td>\n",
       "      <td>C9031234</td>\n",
       "      <td>24/3/88</td>\n",
       "      <td>F</td>\n",
       "      <td>NAVI MUMBAI</td>\n",
       "      <td>6714.43</td>\n",
       "      <td>2/8/16</td>\n",
       "      <td>181156</td>\n",
       "      <td>1762.5</td>\n",
       "    </tr>\n",
       "  </tbody>\n",
       "</table>\n",
       "</div>"
      ],
      "text/plain": [
       "  TransactionID CustomerID CustomerDOB CustGender CustLocation  \\\n",
       "0            T1   C5841053     10/1/94          F   JAMSHEDPUR   \n",
       "1            T2   C2142763      4/4/57          M      JHAJJAR   \n",
       "2            T3   C4417068    26/11/96          F       MUMBAI   \n",
       "3            T4   C5342380     14/9/73          F       MUMBAI   \n",
       "4            T5   C9031234     24/3/88          F  NAVI MUMBAI   \n",
       "\n",
       "   CustAccountBalance TransactionDate  TransactionTime  \\\n",
       "0            17819.05          2/8/16           143207   \n",
       "1             2270.69          2/8/16           141858   \n",
       "2            17874.44          2/8/16           142712   \n",
       "3           866503.21          2/8/16           142714   \n",
       "4             6714.43          2/8/16           181156   \n",
       "\n",
       "   TransactionAmount (INR)  \n",
       "0                     25.0  \n",
       "1                  27999.0  \n",
       "2                    459.0  \n",
       "3                   2060.0  \n",
       "4                   1762.5  "
      ]
     },
     "execution_count": 5,
     "metadata": {},
     "output_type": "execute_result"
    }
   ],
   "source": [
    "df=pd.read_csv('/kaggle/input/bank-customer-segmentation/bank_transactions.csv')\n",
    "df.head()"
   ]
  },
  {
   "cell_type": "code",
   "execution_count": 6,
   "id": "755c55bc",
   "metadata": {
    "execution": {
     "iopub.execute_input": "2023-09-16T06:58:45.851153Z",
     "iopub.status.busy": "2023-09-16T06:58:45.850135Z",
     "iopub.status.idle": "2023-09-16T06:58:46.443594Z",
     "shell.execute_reply": "2023-09-16T06:58:46.442387Z"
    },
    "papermill": {
     "duration": 0.613315,
     "end_time": "2023-09-16T06:58:46.447129",
     "exception": false,
     "start_time": "2023-09-16T06:58:45.833814",
     "status": "completed"
    },
    "tags": []
   },
   "outputs": [
    {
     "name": "stdout",
     "output_type": "stream",
     "text": [
      "<class 'pandas.core.frame.DataFrame'>\n",
      "RangeIndex: 1048567 entries, 0 to 1048566\n",
      "Data columns (total 9 columns):\n",
      " #   Column                   Non-Null Count    Dtype  \n",
      "---  ------                   --------------    -----  \n",
      " 0   TransactionID            1048567 non-null  object \n",
      " 1   CustomerID               1048567 non-null  object \n",
      " 2   CustomerDOB              1045170 non-null  object \n",
      " 3   CustGender               1047467 non-null  object \n",
      " 4   CustLocation             1048416 non-null  object \n",
      " 5   CustAccountBalance       1046198 non-null  float64\n",
      " 6   TransactionDate          1048567 non-null  object \n",
      " 7   TransactionTime          1048567 non-null  int64  \n",
      " 8   TransactionAmount (INR)  1048567 non-null  float64\n",
      "dtypes: float64(2), int64(1), object(6)\n",
      "memory usage: 72.0+ MB\n"
     ]
    }
   ],
   "source": [
    "df.info()"
   ]
  },
  {
   "cell_type": "code",
   "execution_count": 7,
   "id": "83bb3e64",
   "metadata": {
    "execution": {
     "iopub.execute_input": "2023-09-16T06:58:46.481383Z",
     "iopub.status.busy": "2023-09-16T06:58:46.481067Z",
     "iopub.status.idle": "2023-09-16T06:58:47.070928Z",
     "shell.execute_reply": "2023-09-16T06:58:47.069749Z"
    },
    "papermill": {
     "duration": 0.609009,
     "end_time": "2023-09-16T06:58:47.073127",
     "exception": false,
     "start_time": "2023-09-16T06:58:46.464118",
     "status": "completed"
    },
    "tags": []
   },
   "outputs": [
    {
     "name": "stdout",
     "output_type": "stream",
     "text": [
      "TransactionID                 0\n",
      "CustomerID                    0\n",
      "CustomerDOB                3397\n",
      "CustGender                 1100\n",
      "CustLocation                151\n",
      "CustAccountBalance         2369\n",
      "TransactionDate               0\n",
      "TransactionTime               0\n",
      "TransactionAmount (INR)       0\n",
      "dtype: int64\n"
     ]
    }
   ],
   "source": [
    "print(df.isnull().sum())"
   ]
  },
  {
   "cell_type": "code",
   "execution_count": 8,
   "id": "febd33b9",
   "metadata": {
    "execution": {
     "iopub.execute_input": "2023-09-16T06:58:47.106421Z",
     "iopub.status.busy": "2023-09-16T06:58:47.106121Z",
     "iopub.status.idle": "2023-09-16T06:58:47.231413Z",
     "shell.execute_reply": "2023-09-16T06:58:47.230168Z"
    },
    "papermill": {
     "duration": 0.145577,
     "end_time": "2023-09-16T06:58:47.234460",
     "exception": false,
     "start_time": "2023-09-16T06:58:47.088883",
     "status": "completed"
    },
    "tags": []
   },
   "outputs": [
    {
     "data": {
      "text/html": [
       "<div>\n",
       "<style scoped>\n",
       "    .dataframe tbody tr th:only-of-type {\n",
       "        vertical-align: middle;\n",
       "    }\n",
       "\n",
       "    .dataframe tbody tr th {\n",
       "        vertical-align: top;\n",
       "    }\n",
       "\n",
       "    .dataframe thead th {\n",
       "        text-align: right;\n",
       "    }\n",
       "</style>\n",
       "<table border=\"1\" class=\"dataframe\">\n",
       "  <thead>\n",
       "    <tr style=\"text-align: right;\">\n",
       "      <th></th>\n",
       "      <th>CustAccountBalance</th>\n",
       "      <th>TransactionTime</th>\n",
       "      <th>TransactionAmount (INR)</th>\n",
       "    </tr>\n",
       "  </thead>\n",
       "  <tbody>\n",
       "    <tr>\n",
       "      <th>count</th>\n",
       "      <td>1.046198e+06</td>\n",
       "      <td>1.048567e+06</td>\n",
       "      <td>1.048567e+06</td>\n",
       "    </tr>\n",
       "    <tr>\n",
       "      <th>mean</th>\n",
       "      <td>1.154035e+05</td>\n",
       "      <td>1.570875e+05</td>\n",
       "      <td>1.574335e+03</td>\n",
       "    </tr>\n",
       "    <tr>\n",
       "      <th>std</th>\n",
       "      <td>8.464854e+05</td>\n",
       "      <td>5.126185e+04</td>\n",
       "      <td>6.574743e+03</td>\n",
       "    </tr>\n",
       "    <tr>\n",
       "      <th>min</th>\n",
       "      <td>0.000000e+00</td>\n",
       "      <td>0.000000e+00</td>\n",
       "      <td>0.000000e+00</td>\n",
       "    </tr>\n",
       "    <tr>\n",
       "      <th>25%</th>\n",
       "      <td>4.721760e+03</td>\n",
       "      <td>1.240300e+05</td>\n",
       "      <td>1.610000e+02</td>\n",
       "    </tr>\n",
       "    <tr>\n",
       "      <th>50%</th>\n",
       "      <td>1.679218e+04</td>\n",
       "      <td>1.642260e+05</td>\n",
       "      <td>4.590300e+02</td>\n",
       "    </tr>\n",
       "    <tr>\n",
       "      <th>75%</th>\n",
       "      <td>5.765736e+04</td>\n",
       "      <td>2.000100e+05</td>\n",
       "      <td>1.200000e+03</td>\n",
       "    </tr>\n",
       "    <tr>\n",
       "      <th>max</th>\n",
       "      <td>1.150355e+08</td>\n",
       "      <td>2.359590e+05</td>\n",
       "      <td>1.560035e+06</td>\n",
       "    </tr>\n",
       "  </tbody>\n",
       "</table>\n",
       "</div>"
      ],
      "text/plain": [
       "       CustAccountBalance  TransactionTime  TransactionAmount (INR)\n",
       "count        1.046198e+06     1.048567e+06             1.048567e+06\n",
       "mean         1.154035e+05     1.570875e+05             1.574335e+03\n",
       "std          8.464854e+05     5.126185e+04             6.574743e+03\n",
       "min          0.000000e+00     0.000000e+00             0.000000e+00\n",
       "25%          4.721760e+03     1.240300e+05             1.610000e+02\n",
       "50%          1.679218e+04     1.642260e+05             4.590300e+02\n",
       "75%          5.765736e+04     2.000100e+05             1.200000e+03\n",
       "max          1.150355e+08     2.359590e+05             1.560035e+06"
      ]
     },
     "execution_count": 8,
     "metadata": {},
     "output_type": "execute_result"
    }
   ],
   "source": [
    "df.describe()"
   ]
  },
  {
   "cell_type": "code",
   "execution_count": 9,
   "id": "7188a2b8",
   "metadata": {
    "execution": {
     "iopub.execute_input": "2023-09-16T06:58:47.269079Z",
     "iopub.status.busy": "2023-09-16T06:58:47.268760Z",
     "iopub.status.idle": "2023-09-16T06:58:48.865734Z",
     "shell.execute_reply": "2023-09-16T06:58:48.864755Z"
    },
    "papermill": {
     "duration": 1.616607,
     "end_time": "2023-09-16T06:58:48.868533",
     "exception": false,
     "start_time": "2023-09-16T06:58:47.251926",
     "status": "completed"
    },
    "tags": []
   },
   "outputs": [
    {
     "data": {
      "text/html": [
       "<div>\n",
       "<style scoped>\n",
       "    .dataframe tbody tr th:only-of-type {\n",
       "        vertical-align: middle;\n",
       "    }\n",
       "\n",
       "    .dataframe tbody tr th {\n",
       "        vertical-align: top;\n",
       "    }\n",
       "\n",
       "    .dataframe thead th {\n",
       "        text-align: right;\n",
       "    }\n",
       "</style>\n",
       "<table border=\"1\" class=\"dataframe\">\n",
       "  <thead>\n",
       "    <tr style=\"text-align: right;\">\n",
       "      <th></th>\n",
       "      <th>column</th>\n",
       "      <th>dtypes</th>\n",
       "      <th>nunique</th>\n",
       "      <th>sum_null</th>\n",
       "    </tr>\n",
       "  </thead>\n",
       "  <tbody>\n",
       "    <tr>\n",
       "      <th>0</th>\n",
       "      <td>TransactionID</td>\n",
       "      <td>object</td>\n",
       "      <td>1048567</td>\n",
       "      <td>0</td>\n",
       "    </tr>\n",
       "    <tr>\n",
       "      <th>1</th>\n",
       "      <td>CustomerID</td>\n",
       "      <td>object</td>\n",
       "      <td>884265</td>\n",
       "      <td>0</td>\n",
       "    </tr>\n",
       "    <tr>\n",
       "      <th>2</th>\n",
       "      <td>CustomerDOB</td>\n",
       "      <td>object</td>\n",
       "      <td>17254</td>\n",
       "      <td>3397</td>\n",
       "    </tr>\n",
       "    <tr>\n",
       "      <th>3</th>\n",
       "      <td>CustGender</td>\n",
       "      <td>object</td>\n",
       "      <td>3</td>\n",
       "      <td>1100</td>\n",
       "    </tr>\n",
       "    <tr>\n",
       "      <th>4</th>\n",
       "      <td>CustLocation</td>\n",
       "      <td>object</td>\n",
       "      <td>9355</td>\n",
       "      <td>151</td>\n",
       "    </tr>\n",
       "    <tr>\n",
       "      <th>5</th>\n",
       "      <td>CustAccountBalance</td>\n",
       "      <td>float64</td>\n",
       "      <td>161328</td>\n",
       "      <td>2369</td>\n",
       "    </tr>\n",
       "    <tr>\n",
       "      <th>6</th>\n",
       "      <td>TransactionDate</td>\n",
       "      <td>object</td>\n",
       "      <td>55</td>\n",
       "      <td>0</td>\n",
       "    </tr>\n",
       "    <tr>\n",
       "      <th>7</th>\n",
       "      <td>TransactionTime</td>\n",
       "      <td>int64</td>\n",
       "      <td>81918</td>\n",
       "      <td>0</td>\n",
       "    </tr>\n",
       "    <tr>\n",
       "      <th>8</th>\n",
       "      <td>TransactionAmount (INR)</td>\n",
       "      <td>float64</td>\n",
       "      <td>93024</td>\n",
       "      <td>0</td>\n",
       "    </tr>\n",
       "  </tbody>\n",
       "</table>\n",
       "</div>"
      ],
      "text/plain": [
       "                    column   dtypes  nunique  sum_null\n",
       "0            TransactionID   object  1048567         0\n",
       "1               CustomerID   object   884265         0\n",
       "2              CustomerDOB   object    17254      3397\n",
       "3               CustGender   object        3      1100\n",
       "4             CustLocation   object     9355       151\n",
       "5       CustAccountBalance  float64   161328      2369\n",
       "6          TransactionDate   object       55         0\n",
       "7          TransactionTime    int64    81918         0\n",
       "8  TransactionAmount (INR)  float64    93024         0"
      ]
     },
     "execution_count": 9,
     "metadata": {},
     "output_type": "execute_result"
    }
   ],
   "source": [
    "#show details\n",
    "def check(df):\n",
    "    l=[]\n",
    "    columns=df.columns\n",
    "    for col in columns:\n",
    "        dtypes=df[col].dtypes\n",
    "        nunique=df[col].nunique()\n",
    "        sum_null=df[col].isnull().sum()\n",
    "        l.append([col,dtypes,nunique,sum_null])\n",
    "    df_check=pd.DataFrame(l) \n",
    "    df_check.columns=['column','dtypes','nunique','sum_null'] \n",
    "    return df_check\n",
    "check(df)"
   ]
  },
  {
   "cell_type": "code",
   "execution_count": 10,
   "id": "6ed9fd7e",
   "metadata": {
    "execution": {
     "iopub.execute_input": "2023-09-16T06:58:48.905455Z",
     "iopub.status.busy": "2023-09-16T06:58:48.904493Z",
     "iopub.status.idle": "2023-09-16T06:58:50.307328Z",
     "shell.execute_reply": "2023-09-16T06:58:50.306142Z"
    },
    "papermill": {
     "duration": 1.42317,
     "end_time": "2023-09-16T06:58:50.310144",
     "exception": false,
     "start_time": "2023-09-16T06:58:48.886974",
     "status": "completed"
    },
    "tags": []
   },
   "outputs": [
    {
     "data": {
      "text/plain": [
       "0"
      ]
     },
     "execution_count": 10,
     "metadata": {},
     "output_type": "execute_result"
    }
   ],
   "source": [
    "df.duplicated().sum()"
   ]
  },
  {
   "cell_type": "code",
   "execution_count": 11,
   "id": "2bafd692",
   "metadata": {
    "execution": {
     "iopub.execute_input": "2023-09-16T06:58:50.343658Z",
     "iopub.status.busy": "2023-09-16T06:58:50.343313Z",
     "iopub.status.idle": "2023-09-16T06:58:51.541539Z",
     "shell.execute_reply": "2023-09-16T06:58:51.540578Z"
    },
    "papermill": {
     "duration": 1.217476,
     "end_time": "2023-09-16T06:58:51.544276",
     "exception": false,
     "start_time": "2023-09-16T06:58:50.326800",
     "status": "completed"
    },
    "tags": []
   },
   "outputs": [
    {
     "data": {
      "image/png": "[encoded data removed]",
      "text/plain": [
       "<Figure size 800x550 with 1 Axes>"
      ]
     },
     "metadata": {},
     "output_type": "display_data"
    }
   ],
   "source": [
    "plt.style.use(\"fivethirtyeight\")\n",
    "\n",
    "chart=sns.countplot(x='CustGender',data=df,palette='rocket',order=df['CustGender'].value_counts().index)\n",
    "\n",
    "plt.title(\"Frequency\",fontsize='20',backgroundcolor='AliceBlue',color='magenta');"
   ]
  },
  {
   "cell_type": "code",
   "execution_count": 12,
   "id": "5a09d297",
   "metadata": {
    "execution": {
     "iopub.execute_input": "2023-09-16T06:58:51.622398Z",
     "iopub.status.busy": "2023-09-16T06:58:51.621398Z",
     "iopub.status.idle": "2023-09-16T06:58:52.205507Z",
     "shell.execute_reply": "2023-09-16T06:58:52.204386Z"
    },
    "papermill": {
     "duration": 0.605105,
     "end_time": "2023-09-16T06:58:52.207821",
     "exception": false,
     "start_time": "2023-09-16T06:58:51.602716",
     "status": "completed"
    },
    "tags": []
   },
   "outputs": [
    {
     "name": "stdout",
     "output_type": "stream",
     "text": [
      "<class 'pandas.core.frame.DataFrame'>\n",
      "RangeIndex: 1048567 entries, 0 to 1048566\n",
      "Data columns (total 9 columns):\n",
      " #   Column                   Non-Null Count    Dtype  \n",
      "---  ------                   --------------    -----  \n",
      " 0   TransactionID            1048567 non-null  object \n",
      " 1   CustomerID               1048567 non-null  object \n",
      " 2   CustomerDOB              1045170 non-null  object \n",
      " 3   CustGender               1047467 non-null  object \n",
      " 4   CustLocation             1048416 non-null  object \n",
      " 5   CustAccountBalance       1046198 non-null  float64\n",
      " 6   TransactionDate          1048567 non-null  object \n",
      " 7   TransactionTime          1048567 non-null  int64  \n",
      " 8   TransactionAmount (INR)  1048567 non-null  float64\n",
      "dtypes: float64(2), int64(1), object(6)\n",
      "memory usage: 72.0+ MB\n"
     ]
    }
   ],
   "source": [
    "df.info()"
   ]
  },
  {
   "cell_type": "code",
   "execution_count": 13,
   "id": "a3b37554",
   "metadata": {
    "execution": {
     "iopub.execute_input": "2023-09-16T06:58:52.244289Z",
     "iopub.status.busy": "2023-09-16T06:58:52.243974Z",
     "iopub.status.idle": "2023-09-16T06:58:52.571565Z",
     "shell.execute_reply": "2023-09-16T06:58:52.570530Z"
    },
    "papermill": {
     "duration": 0.348591,
     "end_time": "2023-09-16T06:58:52.573863",
     "exception": false,
     "start_time": "2023-09-16T06:58:52.225272",
     "status": "completed"
    },
    "tags": []
   },
   "outputs": [
    {
     "data": {
      "text/plain": [
       "(1042651, 9)"
      ]
     },
     "execution_count": 13,
     "metadata": {},
     "output_type": "execute_result"
    }
   ],
   "source": [
    "df.dropna(subset=['CustLocation','CustomerDOB','CustAccountBalance'],inplace=True)\n",
    "df.shape"
   ]
  },
  {
   "cell_type": "code",
   "execution_count": 14,
   "id": "b7b905f5",
   "metadata": {
    "execution": {
     "iopub.execute_input": "2023-09-16T06:58:52.609668Z",
     "iopub.status.busy": "2023-09-16T06:58:52.609367Z",
     "iopub.status.idle": "2023-09-16T06:58:52.743735Z",
     "shell.execute_reply": "2023-09-16T06:58:52.742597Z"
    },
    "papermill": {
     "duration": 0.154866,
     "end_time": "2023-09-16T06:58:52.746090",
     "exception": false,
     "start_time": "2023-09-16T06:58:52.591224",
     "status": "completed"
    },
    "tags": []
   },
   "outputs": [],
   "source": [
    "df.fillna({\"CustGender\":\"M\"},inplace=True)"
   ]
  },
  {
   "cell_type": "code",
   "execution_count": 15,
   "id": "b5cbd9d0",
   "metadata": {
    "execution": {
     "iopub.execute_input": "2023-09-16T06:58:52.782155Z",
     "iopub.status.busy": "2023-09-16T06:58:52.781253Z",
     "iopub.status.idle": "2023-09-16T06:58:53.373083Z",
     "shell.execute_reply": "2023-09-16T06:58:53.371839Z"
    },
    "papermill": {
     "duration": 0.612047,
     "end_time": "2023-09-16T06:58:53.375363",
     "exception": false,
     "start_time": "2023-09-16T06:58:52.763316",
     "status": "completed"
    },
    "tags": []
   },
   "outputs": [
    {
     "name": "stdout",
     "output_type": "stream",
     "text": [
      "<class 'pandas.core.frame.DataFrame'>\n",
      "Index: 1042651 entries, 0 to 1048566\n",
      "Data columns (total 9 columns):\n",
      " #   Column                   Non-Null Count    Dtype  \n",
      "---  ------                   --------------    -----  \n",
      " 0   TransactionID            1042651 non-null  object \n",
      " 1   CustomerID               1042651 non-null  object \n",
      " 2   CustomerDOB              1042651 non-null  object \n",
      " 3   CustGender               1042651 non-null  object \n",
      " 4   CustLocation             1042651 non-null  object \n",
      " 5   CustAccountBalance       1042651 non-null  float64\n",
      " 6   TransactionDate          1042651 non-null  object \n",
      " 7   TransactionTime          1042651 non-null  int64  \n",
      " 8   TransactionAmount (INR)  1042651 non-null  float64\n",
      "dtypes: float64(2), int64(1), object(6)\n",
      "memory usage: 79.5+ MB\n"
     ]
    }
   ],
   "source": [
    "df.info()"
   ]
  },
  {
   "cell_type": "code",
   "execution_count": 16,
   "id": "9c8642dc",
   "metadata": {
    "execution": {
     "iopub.execute_input": "2023-09-16T06:58:53.411126Z",
     "iopub.status.busy": "2023-09-16T06:58:53.410810Z",
     "iopub.status.idle": "2023-09-16T07:00:00.292386Z",
     "shell.execute_reply": "2023-09-16T07:00:00.291337Z"
    },
    "papermill": {
     "duration": 66.902709,
     "end_time": "2023-09-16T07:00:00.294938",
     "exception": false,
     "start_time": "2023-09-16T06:58:53.392229",
     "status": "completed"
    },
    "tags": []
   },
   "outputs": [
    {
     "name": "stderr",
     "output_type": "stream",
     "text": [
      "/tmp/ipykernel_23/3886061898.py:1: UserWarning: Could not infer format, so each element will be parsed individually, falling back to `dateutil`. To ensure parsing is consistent and as-expected, please specify a format.\n",
      "  df[\"CustomerDOB\"]=pd.to_datetime(df[\"CustomerDOB\"])\n",
      "/tmp/ipykernel_23/3886061898.py:2: UserWarning: Could not infer format, so each element will be parsed individually, falling back to `dateutil`. To ensure parsing is consistent and as-expected, please specify a format.\n",
      "  df[\"TransactionDate\"]=pd.to_datetime(df[\"TransactionDate\"])\n"
     ]
    }
   ],
   "source": [
    "df[\"CustomerDOB\"]=pd.to_datetime(df[\"CustomerDOB\"])\n",
    "df[\"TransactionDate\"]=pd.to_datetime(df[\"TransactionDate\"])\n",
    "\n",
    "df[\"CustomerAge\"]=df[\"TransactionDate\"].dt.year-df[\"CustomerDOB\"].dt.year"
   ]
  },
  {
   "cell_type": "code",
   "execution_count": 17,
   "id": "2dcb5c23",
   "metadata": {
    "execution": {
     "iopub.execute_input": "2023-09-16T07:00:00.332300Z",
     "iopub.status.busy": "2023-09-16T07:00:00.331990Z",
     "iopub.status.idle": "2023-09-16T07:00:00.340641Z",
     "shell.execute_reply": "2023-09-16T07:00:00.339526Z"
    },
    "papermill": {
     "duration": 0.029987,
     "end_time": "2023-09-16T07:00:00.342945",
     "exception": false,
     "start_time": "2023-09-16T07:00:00.312958",
     "status": "completed"
    },
    "tags": []
   },
   "outputs": [],
   "source": [
    "df['TransactionDate1']=df['TransactionDate']\n",
    "df['TransactionDate2']=df['TransactionDate']"
   ]
  },
  {
   "cell_type": "code",
   "execution_count": 18,
   "id": "8ad37049",
   "metadata": {
    "execution": {
     "iopub.execute_input": "2023-09-16T07:00:00.379370Z",
     "iopub.status.busy": "2023-09-16T07:00:00.379070Z",
     "iopub.status.idle": "2023-09-16T07:00:00.385424Z",
     "shell.execute_reply": "2023-09-16T07:00:00.384531Z"
    },
    "papermill": {
     "duration": 0.02711,
     "end_time": "2023-09-16T07:00:00.387542",
     "exception": false,
     "start_time": "2023-09-16T07:00:00.360432",
     "status": "completed"
    },
    "tags": []
   },
   "outputs": [
    {
     "data": {
      "text/plain": [
       "Index(['TransactionID', 'CustomerID', 'CustomerDOB', 'CustGender',\n",
       "       'CustLocation', 'CustAccountBalance', 'TransactionDate',\n",
       "       'TransactionTime', 'TransactionAmount (INR)', 'CustomerAge',\n",
       "       'TransactionDate1', 'TransactionDate2'],\n",
       "      dtype='object')"
      ]
     },
     "execution_count": 18,
     "metadata": {},
     "output_type": "execute_result"
    }
   ],
   "source": [
    "df.columns"
   ]
  },
  {
   "cell_type": "code",
   "execution_count": 19,
   "id": "99077904",
   "metadata": {
    "execution": {
     "iopub.execute_input": "2023-09-16T07:00:00.426015Z",
     "iopub.status.busy": "2023-09-16T07:00:00.425061Z",
     "iopub.status.idle": "2023-09-16T07:00:04.254661Z",
     "shell.execute_reply": "2023-09-16T07:00:04.253646Z"
    },
    "papermill": {
     "duration": 3.851645,
     "end_time": "2023-09-16T07:00:04.257317",
     "exception": false,
     "start_time": "2023-09-16T07:00:00.405672",
     "status": "completed"
    },
    "tags": []
   },
   "outputs": [
    {
     "data": {
      "text/html": [
       "<div>\n",
       "<style scoped>\n",
       "    .dataframe tbody tr th:only-of-type {\n",
       "        vertical-align: middle;\n",
       "    }\n",
       "\n",
       "    .dataframe tbody tr th {\n",
       "        vertical-align: top;\n",
       "    }\n",
       "\n",
       "    .dataframe thead th {\n",
       "        text-align: right;\n",
       "    }\n",
       "</style>\n",
       "<table border=\"1\" class=\"dataframe\">\n",
       "  <thead>\n",
       "    <tr style=\"text-align: right;\">\n",
       "      <th></th>\n",
       "      <th>CustomerID</th>\n",
       "      <th>TransactionID</th>\n",
       "      <th>CustGender</th>\n",
       "      <th>CustLocation</th>\n",
       "      <th>CustAccountBalance</th>\n",
       "      <th>TransactionAmount (INR)</th>\n",
       "      <th>CustomerAge</th>\n",
       "      <th>TransactionDate2</th>\n",
       "      <th>TransactionDate1</th>\n",
       "      <th>TransactionDate</th>\n",
       "    </tr>\n",
       "  </thead>\n",
       "  <tbody>\n",
       "    <tr>\n",
       "      <th>0</th>\n",
       "      <td>C1010011</td>\n",
       "      <td>2</td>\n",
       "      <td>F</td>\n",
       "      <td>NOIDA</td>\n",
       "      <td>76340.635</td>\n",
       "      <td>2553.0</td>\n",
       "      <td>33</td>\n",
       "      <td>2016-09-26</td>\n",
       "      <td>2016-09-08</td>\n",
       "      <td>2016-09-17</td>\n",
       "    </tr>\n",
       "    <tr>\n",
       "      <th>1</th>\n",
       "      <td>C1010012</td>\n",
       "      <td>1</td>\n",
       "      <td>M</td>\n",
       "      <td>MUMBAI</td>\n",
       "      <td>24204.490</td>\n",
       "      <td>1499.0</td>\n",
       "      <td>22</td>\n",
       "      <td>2016-08-14</td>\n",
       "      <td>2016-08-14</td>\n",
       "      <td>2016-08-14</td>\n",
       "    </tr>\n",
       "    <tr>\n",
       "      <th>2</th>\n",
       "      <td>C1010014</td>\n",
       "      <td>2</td>\n",
       "      <td>F</td>\n",
       "      <td>MUMBAI</td>\n",
       "      <td>100112.950</td>\n",
       "      <td>727.5</td>\n",
       "      <td>32</td>\n",
       "      <td>2016-07-08</td>\n",
       "      <td>2016-01-08</td>\n",
       "      <td>2016-04-08</td>\n",
       "    </tr>\n",
       "    <tr>\n",
       "      <th>3</th>\n",
       "      <td>C1010018</td>\n",
       "      <td>1</td>\n",
       "      <td>F</td>\n",
       "      <td>CHAMPARAN</td>\n",
       "      <td>496.180</td>\n",
       "      <td>30.0</td>\n",
       "      <td>26</td>\n",
       "      <td>2016-09-15</td>\n",
       "      <td>2016-09-15</td>\n",
       "      <td>2016-09-15</td>\n",
       "    </tr>\n",
       "    <tr>\n",
       "      <th>4</th>\n",
       "      <td>C1010024</td>\n",
       "      <td>1</td>\n",
       "      <td>M</td>\n",
       "      <td>KOLKATA</td>\n",
       "      <td>87058.650</td>\n",
       "      <td>5000.0</td>\n",
       "      <td>-49</td>\n",
       "      <td>2016-08-18</td>\n",
       "      <td>2016-08-18</td>\n",
       "      <td>2016-08-18</td>\n",
       "    </tr>\n",
       "  </tbody>\n",
       "</table>\n",
       "</div>"
      ],
      "text/plain": [
       "  CustomerID  TransactionID CustGender CustLocation  CustAccountBalance  \\\n",
       "0   C1010011              2          F        NOIDA           76340.635   \n",
       "1   C1010012              1          M       MUMBAI           24204.490   \n",
       "2   C1010014              2          F       MUMBAI          100112.950   \n",
       "3   C1010018              1          F    CHAMPARAN             496.180   \n",
       "4   C1010024              1          M      KOLKATA           87058.650   \n",
       "\n",
       "   TransactionAmount (INR)  CustomerAge TransactionDate2 TransactionDate1  \\\n",
       "0                   2553.0           33       2016-09-26       2016-09-08   \n",
       "1                   1499.0           22       2016-08-14       2016-08-14   \n",
       "2                    727.5           32       2016-07-08       2016-01-08   \n",
       "3                     30.0           26       2016-09-15       2016-09-15   \n",
       "4                   5000.0          -49       2016-08-18       2016-08-18   \n",
       "\n",
       "  TransactionDate  \n",
       "0      2016-09-17  \n",
       "1      2016-08-14  \n",
       "2      2016-04-08  \n",
       "3      2016-09-15  \n",
       "4      2016-08-18  "
      ]
     },
     "execution_count": 19,
     "metadata": {},
     "output_type": "execute_result"
    }
   ],
   "source": [
    "RMF_data = df.groupby(\"CustomerID\").agg({\n",
    "    \"TransactionID\":\"count\",\n",
    "    \"CustGender\":\"first\",\n",
    "    \"CustLocation\":\"first\",\n",
    "    \"CustAccountBalance\":\"mean\",\n",
    "    \"TransactionAmount (INR)\":\"mean\",\n",
    "    \"CustomerAge\":\"max\",\n",
    "    \"TransactionDate2\":\"max\",\n",
    "    \"TransactionDate1\":\"min\",\n",
    "    \"TransactionDate\":\"median\"\n",
    "})\n",
    "RMF_data =RMF_data.reset_index() \n",
    "RMF_data.head()"
   ]
  },
  {
   "cell_type": "code",
   "execution_count": 20,
   "id": "b41305ac",
   "metadata": {
    "execution": {
     "iopub.execute_input": "2023-09-16T07:00:04.296974Z",
     "iopub.status.busy": "2023-09-16T07:00:04.295975Z",
     "iopub.status.idle": "2023-09-16T07:00:04.332727Z",
     "shell.execute_reply": "2023-09-16T07:00:04.331646Z"
    },
    "papermill": {
     "duration": 0.058376,
     "end_time": "2023-09-16T07:00:04.335342",
     "exception": false,
     "start_time": "2023-09-16T07:00:04.276966",
     "status": "completed"
    },
    "tags": []
   },
   "outputs": [],
   "source": [
    "RMF_data.drop(columns=[\"CustomerID\"],inplace=True)"
   ]
  },
  {
   "cell_type": "code",
   "execution_count": 21,
   "id": "472eed8b",
   "metadata": {
    "execution": {
     "iopub.execute_input": "2023-09-16T07:00:04.373879Z",
     "iopub.status.busy": "2023-09-16T07:00:04.372961Z",
     "iopub.status.idle": "2023-09-16T07:00:04.389303Z",
     "shell.execute_reply": "2023-09-16T07:00:04.388262Z"
    },
    "papermill": {
     "duration": 0.036897,
     "end_time": "2023-09-16T07:00:04.391699",
     "exception": false,
     "start_time": "2023-09-16T07:00:04.354802",
     "status": "completed"
    },
    "tags": []
   },
   "outputs": [],
   "source": [
    "RMF_data['Recency']=RMF_data['TransactionDate2']-RMF_data['TransactionDate1']"
   ]
  },
  {
   "cell_type": "code",
   "execution_count": 22,
   "id": "553e8c73",
   "metadata": {
    "execution": {
     "iopub.execute_input": "2023-09-16T07:00:04.429555Z",
     "iopub.status.busy": "2023-09-16T07:00:04.428654Z",
     "iopub.status.idle": "2023-09-16T07:00:17.226723Z",
     "shell.execute_reply": "2023-09-16T07:00:17.225736Z"
    },
    "papermill": {
     "duration": 12.819751,
     "end_time": "2023-09-16T07:00:17.229757",
     "exception": false,
     "start_time": "2023-09-16T07:00:04.410006",
     "status": "completed"
    },
    "tags": []
   },
   "outputs": [
    {
     "data": {
      "text/html": [
       "<div>\n",
       "<style scoped>\n",
       "    .dataframe tbody tr th:only-of-type {\n",
       "        vertical-align: middle;\n",
       "    }\n",
       "\n",
       "    .dataframe tbody tr th {\n",
       "        vertical-align: top;\n",
       "    }\n",
       "\n",
       "    .dataframe thead th {\n",
       "        text-align: right;\n",
       "    }\n",
       "</style>\n",
       "<table border=\"1\" class=\"dataframe\">\n",
       "  <thead>\n",
       "    <tr style=\"text-align: right;\">\n",
       "      <th></th>\n",
       "      <th>TransactionID</th>\n",
       "      <th>CustGender</th>\n",
       "      <th>CustLocation</th>\n",
       "      <th>CustAccountBalance</th>\n",
       "      <th>TransactionAmount (INR)</th>\n",
       "      <th>CustomerAge</th>\n",
       "      <th>TransactionDate2</th>\n",
       "      <th>TransactionDate1</th>\n",
       "      <th>TransactionDate</th>\n",
       "      <th>Recency</th>\n",
       "    </tr>\n",
       "  </thead>\n",
       "  <tbody>\n",
       "    <tr>\n",
       "      <th>0</th>\n",
       "      <td>2</td>\n",
       "      <td>F</td>\n",
       "      <td>NOIDA</td>\n",
       "      <td>76340.635</td>\n",
       "      <td>2553.0</td>\n",
       "      <td>33</td>\n",
       "      <td>2016-09-26</td>\n",
       "      <td>2016-09-08</td>\n",
       "      <td>2016-09-17</td>\n",
       "      <td>18 days</td>\n",
       "    </tr>\n",
       "    <tr>\n",
       "      <th>1</th>\n",
       "      <td>1</td>\n",
       "      <td>M</td>\n",
       "      <td>MUMBAI</td>\n",
       "      <td>24204.490</td>\n",
       "      <td>1499.0</td>\n",
       "      <td>22</td>\n",
       "      <td>2016-08-14</td>\n",
       "      <td>2016-08-14</td>\n",
       "      <td>2016-08-14</td>\n",
       "      <td>0 days</td>\n",
       "    </tr>\n",
       "    <tr>\n",
       "      <th>2</th>\n",
       "      <td>2</td>\n",
       "      <td>F</td>\n",
       "      <td>MUMBAI</td>\n",
       "      <td>100112.950</td>\n",
       "      <td>727.5</td>\n",
       "      <td>32</td>\n",
       "      <td>2016-07-08</td>\n",
       "      <td>2016-01-08</td>\n",
       "      <td>2016-04-08</td>\n",
       "      <td>182 days</td>\n",
       "    </tr>\n",
       "    <tr>\n",
       "      <th>3</th>\n",
       "      <td>1</td>\n",
       "      <td>F</td>\n",
       "      <td>CHAMPARAN</td>\n",
       "      <td>496.180</td>\n",
       "      <td>30.0</td>\n",
       "      <td>26</td>\n",
       "      <td>2016-09-15</td>\n",
       "      <td>2016-09-15</td>\n",
       "      <td>2016-09-15</td>\n",
       "      <td>0 days</td>\n",
       "    </tr>\n",
       "    <tr>\n",
       "      <th>4</th>\n",
       "      <td>1</td>\n",
       "      <td>M</td>\n",
       "      <td>KOLKATA</td>\n",
       "      <td>87058.650</td>\n",
       "      <td>5000.0</td>\n",
       "      <td>-49</td>\n",
       "      <td>2016-08-18</td>\n",
       "      <td>2016-08-18</td>\n",
       "      <td>2016-08-18</td>\n",
       "      <td>0 days</td>\n",
       "    </tr>\n",
       "  </tbody>\n",
       "</table>\n",
       "</div>"
      ],
      "text/plain": [
       "   TransactionID CustGender CustLocation  CustAccountBalance  \\\n",
       "0              2          F        NOIDA           76340.635   \n",
       "1              1          M       MUMBAI           24204.490   \n",
       "2              2          F       MUMBAI          100112.950   \n",
       "3              1          F    CHAMPARAN             496.180   \n",
       "4              1          M      KOLKATA           87058.650   \n",
       "\n",
       "   TransactionAmount (INR)  CustomerAge TransactionDate2 TransactionDate1  \\\n",
       "0                   2553.0           33       2016-09-26       2016-09-08   \n",
       "1                   1499.0           22       2016-08-14       2016-08-14   \n",
       "2                    727.5           32       2016-07-08       2016-01-08   \n",
       "3                     30.0           26       2016-09-15       2016-09-15   \n",
       "4                   5000.0          -49       2016-08-18       2016-08-18   \n",
       "\n",
       "  TransactionDate   Recency  \n",
       "0      2016-09-17   18 days  \n",
       "1      2016-08-14    0 days  \n",
       "2      2016-04-08  182 days  \n",
       "3      2016-09-15    0 days  \n",
       "4      2016-08-18    0 days  "
      ]
     },
     "execution_count": 22,
     "metadata": {},
     "output_type": "execute_result"
    }
   ],
   "source": [
    "RMF_data['Recency']=RMF_data['Recency'].astype(str)\n",
    "RMF_data.head()"
   ]
  },
  {
   "cell_type": "code",
   "execution_count": 23,
   "id": "1f741f71",
   "metadata": {
    "execution": {
     "iopub.execute_input": "2023-09-16T07:00:17.287306Z",
     "iopub.status.busy": "2023-09-16T07:00:17.286917Z",
     "iopub.status.idle": "2023-09-16T07:00:19.034202Z",
     "shell.execute_reply": "2023-09-16T07:00:19.033182Z"
    },
    "papermill": {
     "duration": 1.778391,
     "end_time": "2023-09-16T07:00:19.036765",
     "exception": false,
     "start_time": "2023-09-16T07:00:17.258374",
     "status": "completed"
    },
    "tags": []
   },
   "outputs": [],
   "source": [
    "RMF_data['Recency']=RMF_data['Recency'].apply(lambda x:re.search('\\d+',x).group())\n",
    "RMF_data['Recency']=RMF_data['Recency'].astype(int)"
   ]
  },
  {
   "cell_type": "code",
   "execution_count": 24,
   "id": "2499f4d9",
   "metadata": {
    "execution": {
     "iopub.execute_input": "2023-09-16T07:00:19.076484Z",
     "iopub.status.busy": "2023-09-16T07:00:19.076124Z",
     "iopub.status.idle": "2023-09-16T07:00:19.656839Z",
     "shell.execute_reply": "2023-09-16T07:00:19.655811Z"
    },
    "papermill": {
     "duration": 0.604288,
     "end_time": "2023-09-16T07:00:19.659395",
     "exception": false,
     "start_time": "2023-09-16T07:00:19.055107",
     "status": "completed"
    },
    "tags": []
   },
   "outputs": [],
   "source": [
    "def rep_0(i):\n",
    "    if i==0:\n",
    "        return 1\n",
    "    else:\n",
    "        return i\n",
    "RMF_data['Recency']=RMF_data['Recency'].apply(rep_0)"
   ]
  },
  {
   "cell_type": "code",
   "execution_count": 25,
   "id": "84075067",
   "metadata": {
    "execution": {
     "iopub.execute_input": "2023-09-16T07:00:19.697164Z",
     "iopub.status.busy": "2023-09-16T07:00:19.696847Z",
     "iopub.status.idle": "2023-09-16T07:00:19.754734Z",
     "shell.execute_reply": "2023-09-16T07:00:19.753617Z"
    },
    "papermill": {
     "duration": 0.079565,
     "end_time": "2023-09-16T07:00:19.757095",
     "exception": false,
     "start_time": "2023-09-16T07:00:19.677530",
     "status": "completed"
    },
    "tags": []
   },
   "outputs": [
    {
     "data": {
      "text/html": [
       "<div>\n",
       "<style scoped>\n",
       "    .dataframe tbody tr th:only-of-type {\n",
       "        vertical-align: middle;\n",
       "    }\n",
       "\n",
       "    .dataframe tbody tr th {\n",
       "        vertical-align: top;\n",
       "    }\n",
       "\n",
       "    .dataframe thead th {\n",
       "        text-align: right;\n",
       "    }\n",
       "</style>\n",
       "<table border=\"1\" class=\"dataframe\">\n",
       "  <thead>\n",
       "    <tr style=\"text-align: right;\">\n",
       "      <th></th>\n",
       "      <th>TransactionID</th>\n",
       "      <th>CustGender</th>\n",
       "      <th>CustLocation</th>\n",
       "      <th>CustAccountBalance</th>\n",
       "      <th>TransactionAmount (INR)</th>\n",
       "      <th>CustomerAge</th>\n",
       "      <th>TransactionDate</th>\n",
       "      <th>Recency</th>\n",
       "    </tr>\n",
       "  </thead>\n",
       "  <tbody>\n",
       "    <tr>\n",
       "      <th>0</th>\n",
       "      <td>2</td>\n",
       "      <td>F</td>\n",
       "      <td>NOIDA</td>\n",
       "      <td>76340.635</td>\n",
       "      <td>2553.0</td>\n",
       "      <td>33</td>\n",
       "      <td>2016-09-17</td>\n",
       "      <td>18</td>\n",
       "    </tr>\n",
       "    <tr>\n",
       "      <th>1</th>\n",
       "      <td>1</td>\n",
       "      <td>M</td>\n",
       "      <td>MUMBAI</td>\n",
       "      <td>24204.490</td>\n",
       "      <td>1499.0</td>\n",
       "      <td>22</td>\n",
       "      <td>2016-08-14</td>\n",
       "      <td>1</td>\n",
       "    </tr>\n",
       "    <tr>\n",
       "      <th>2</th>\n",
       "      <td>2</td>\n",
       "      <td>F</td>\n",
       "      <td>MUMBAI</td>\n",
       "      <td>100112.950</td>\n",
       "      <td>727.5</td>\n",
       "      <td>32</td>\n",
       "      <td>2016-04-08</td>\n",
       "      <td>182</td>\n",
       "    </tr>\n",
       "  </tbody>\n",
       "</table>\n",
       "</div>"
      ],
      "text/plain": [
       "   TransactionID CustGender CustLocation  CustAccountBalance  \\\n",
       "0              2          F        NOIDA           76340.635   \n",
       "1              1          M       MUMBAI           24204.490   \n",
       "2              2          F       MUMBAI          100112.950   \n",
       "\n",
       "   TransactionAmount (INR)  CustomerAge TransactionDate  Recency  \n",
       "0                   2553.0           33      2016-09-17       18  \n",
       "1                   1499.0           22      2016-08-14        1  \n",
       "2                    727.5           32      2016-04-08      182  "
      ]
     },
     "execution_count": 25,
     "metadata": {},
     "output_type": "execute_result"
    }
   ],
   "source": [
    "RMF_data.drop(columns=[\"TransactionDate1\",\"TransactionDate2\"],inplace=True)\n",
    "RMF_data.head(3)"
   ]
  },
  {
   "cell_type": "code",
   "execution_count": 26,
   "id": "3cd0af46",
   "metadata": {
    "execution": {
     "iopub.execute_input": "2023-09-16T07:00:19.796785Z",
     "iopub.status.busy": "2023-09-16T07:00:19.795975Z",
     "iopub.status.idle": "2023-09-16T07:00:19.801317Z",
     "shell.execute_reply": "2023-09-16T07:00:19.800341Z"
    },
    "papermill": {
     "duration": 0.026348,
     "end_time": "2023-09-16T07:00:19.803397",
     "exception": false,
     "start_time": "2023-09-16T07:00:19.777049",
     "status": "completed"
    },
    "tags": []
   },
   "outputs": [],
   "source": [
    "RMF_data.rename(columns={\"TransactionID\":\"Frequency\"},inplace=True)"
   ]
  },
  {
   "cell_type": "code",
   "execution_count": 27,
   "id": "04ab65de",
   "metadata": {
    "execution": {
     "iopub.execute_input": "2023-09-16T07:00:19.840202Z",
     "iopub.status.busy": "2023-09-16T07:00:19.839933Z",
     "iopub.status.idle": "2023-09-16T07:00:20.026823Z",
     "shell.execute_reply": "2023-09-16T07:00:20.025881Z"
    },
    "papermill": {
     "duration": 0.207957,
     "end_time": "2023-09-16T07:00:20.028957",
     "exception": false,
     "start_time": "2023-09-16T07:00:19.821000",
     "status": "completed"
    },
    "tags": []
   },
   "outputs": [
    {
     "name": "stdout",
     "output_type": "stream",
     "text": [
      "<class 'pandas.core.frame.DataFrame'>\n",
      "RangeIndex: 880115 entries, 0 to 880114\n",
      "Data columns (total 8 columns):\n",
      " #   Column                   Non-Null Count   Dtype         \n",
      "---  ------                   --------------   -----         \n",
      " 0   Frequency                880115 non-null  int64         \n",
      " 1   CustGender               880115 non-null  object        \n",
      " 2   CustLocation             880115 non-null  object        \n",
      " 3   CustAccountBalance       880115 non-null  float64       \n",
      " 4   TransactionAmount (INR)  880115 non-null  float64       \n",
      " 5   CustomerAge              880115 non-null  int32         \n",
      " 6   TransactionDate          880115 non-null  datetime64[ns]\n",
      " 7   Recency                  880115 non-null  int64         \n",
      "dtypes: datetime64[ns](1), float64(2), int32(1), int64(2), object(2)\n",
      "memory usage: 50.4+ MB\n"
     ]
    }
   ],
   "source": [
    "RMF_data.info()"
   ]
  },
  {
   "cell_type": "code",
   "execution_count": 28,
   "id": "4e76b9cc",
   "metadata": {
    "execution": {
     "iopub.execute_input": "2023-09-16T07:00:20.066718Z",
     "iopub.status.busy": "2023-09-16T07:00:20.066404Z",
     "iopub.status.idle": "2023-09-16T07:00:20.284231Z",
     "shell.execute_reply": "2023-09-16T07:00:20.282995Z"
    },
    "papermill": {
     "duration": 0.238833,
     "end_time": "2023-09-16T07:00:20.286530",
     "exception": false,
     "start_time": "2023-09-16T07:00:20.047697",
     "status": "completed"
    },
    "tags": []
   },
   "outputs": [
    {
     "data": {
      "text/html": [
       "<div>\n",
       "<style scoped>\n",
       "    .dataframe tbody tr th:only-of-type {\n",
       "        vertical-align: middle;\n",
       "    }\n",
       "\n",
       "    .dataframe tbody tr th {\n",
       "        vertical-align: top;\n",
       "    }\n",
       "\n",
       "    .dataframe thead th {\n",
       "        text-align: right;\n",
       "    }\n",
       "</style>\n",
       "<table border=\"1\" class=\"dataframe\">\n",
       "  <thead>\n",
       "    <tr style=\"text-align: right;\">\n",
       "      <th></th>\n",
       "      <th>lower</th>\n",
       "      <th>upper</th>\n",
       "      <th>outliers</th>\n",
       "      <th>perc%</th>\n",
       "    </tr>\n",
       "  </thead>\n",
       "  <tbody>\n",
       "    <tr>\n",
       "      <th>Frequency</th>\n",
       "      <td>1.0000</td>\n",
       "      <td>1.0000</td>\n",
       "      <td>142200</td>\n",
       "      <td>16.16</td>\n",
       "    </tr>\n",
       "    <tr>\n",
       "      <th>CustAccountBalance</th>\n",
       "      <td>-78311.0400</td>\n",
       "      <td>89470.3200</td>\n",
       "      <td>169876</td>\n",
       "      <td>19.30</td>\n",
       "    </tr>\n",
       "    <tr>\n",
       "      <th>TransactionAmount (INR)</th>\n",
       "      <td>-1385.4825</td>\n",
       "      <td>1766.4825</td>\n",
       "      <td>157989</td>\n",
       "      <td>17.95</td>\n",
       "    </tr>\n",
       "    <tr>\n",
       "      <th>CustomerAge</th>\n",
       "      <td>11.5000</td>\n",
       "      <td>38.5000</td>\n",
       "      <td>180106</td>\n",
       "      <td>20.46</td>\n",
       "    </tr>\n",
       "    <tr>\n",
       "      <th>Recency</th>\n",
       "      <td>1.0000</td>\n",
       "      <td>1.0000</td>\n",
       "      <td>136348</td>\n",
       "      <td>15.49</td>\n",
       "    </tr>\n",
       "  </tbody>\n",
       "</table>\n",
       "</div>"
      ],
      "text/plain": [
       "                              lower       upper  outliers  perc%\n",
       "Frequency                    1.0000      1.0000    142200  16.16\n",
       "CustAccountBalance      -78311.0400  89470.3200    169876  19.30\n",
       "TransactionAmount (INR)  -1385.4825   1766.4825    157989  17.95\n",
       "CustomerAge                 11.5000     38.5000    180106  20.46\n",
       "Recency                      1.0000      1.0000    136348  15.49"
      ]
     },
     "execution_count": 28,
     "metadata": {},
     "output_type": "execute_result"
    }
   ],
   "source": [
    "lower_list=[]\n",
    "upper_list=[]\n",
    "num_list=[]\n",
    "perc_list=[]\n",
    "cols=['Frequency','CustAccountBalance','TransactionAmount (INR)','CustomerAge','Recency']#to draw boxplot or distribution\n",
    "for i in cols:\n",
    "    Q1 = RMF_data[i].quantile(0.25)\n",
    "    Q3 = RMF_data[i].quantile(0.75)\n",
    "    IQR = Q3 - Q1\n",
    "    lower = Q1 - 1.5 * IQR\n",
    "    upper = Q1 + 1.5 * IQR\n",
    "    num=RMF_data[(RMF_data[i] < lower) | (RMF_data[i] > upper)].shape[0]\n",
    "    perc = (num / RMF_data.shape[0]) * 100\n",
    "    lower_list.append(lower)\n",
    "    upper_list.append(upper)\n",
    "    num_list.append(num)\n",
    "    perc_list.append(round(perc,2))\n",
    "dic={'lower':lower_list,'upper':upper_list,'outliers':num_list, 'perc%':perc_list}\n",
    "outliers_df=pd.DataFrame(dic,index=['Frequency','CustAccountBalance','TransactionAmount (INR)','CustomerAge','Recency'])\n",
    "outliers_df"
   ]
  },
  {
   "cell_type": "markdown",
   "id": "2d7d34e0",
   "metadata": {
    "papermill": {
     "duration": 0.018613,
     "end_time": "2023-09-16T07:00:20.325649",
     "exception": false,
     "start_time": "2023-09-16T07:00:20.307036",
     "status": "completed"
    },
    "tags": []
   },
   "source": [
    "# EDA"
   ]
  },
  {
   "cell_type": "code",
   "execution_count": 29,
   "id": "08f899f0",
   "metadata": {
    "execution": {
     "iopub.execute_input": "2023-09-16T07:00:20.363472Z",
     "iopub.status.busy": "2023-09-16T07:00:20.362443Z",
     "iopub.status.idle": "2023-09-16T07:00:20.555103Z",
     "shell.execute_reply": "2023-09-16T07:00:20.554126Z"
    },
    "papermill": {
     "duration": 0.214065,
     "end_time": "2023-09-16T07:00:20.557372",
     "exception": false,
     "start_time": "2023-09-16T07:00:20.343307",
     "status": "completed"
    },
    "tags": []
   },
   "outputs": [
    {
     "data": {
      "text/html": [
       "<div>\n",
       "<style scoped>\n",
       "    .dataframe tbody tr th:only-of-type {\n",
       "        vertical-align: middle;\n",
       "    }\n",
       "\n",
       "    .dataframe tbody tr th {\n",
       "        vertical-align: top;\n",
       "    }\n",
       "\n",
       "    .dataframe thead th {\n",
       "        text-align: right;\n",
       "    }\n",
       "</style>\n",
       "<table border=\"1\" class=\"dataframe\">\n",
       "  <thead>\n",
       "    <tr style=\"text-align: right;\">\n",
       "      <th></th>\n",
       "      <th>Frequency</th>\n",
       "      <th>CustAccountBalance</th>\n",
       "      <th>TransactionAmount (INR)</th>\n",
       "      <th>CustomerAge</th>\n",
       "      <th>TransactionDate</th>\n",
       "      <th>Recency</th>\n",
       "    </tr>\n",
       "  </thead>\n",
       "  <tbody>\n",
       "    <tr>\n",
       "      <th>count</th>\n",
       "      <td>880115.000000</td>\n",
       "      <td>8.801150e+05</td>\n",
       "      <td>8.801150e+05</td>\n",
       "      <td>880115.000000</td>\n",
       "      <td>880115</td>\n",
       "      <td>880115.000000</td>\n",
       "    </tr>\n",
       "    <tr>\n",
       "      <th>mean</th>\n",
       "      <td>1.184676</td>\n",
       "      <td>1.146274e+05</td>\n",
       "      <td>1.567101e+03</td>\n",
       "      <td>36.169507</td>\n",
       "      <td>2016-07-26 00:34:18.358282240</td>\n",
       "      <td>15.886401</td>\n",
       "    </tr>\n",
       "    <tr>\n",
       "      <th>min</th>\n",
       "      <td>1.000000</td>\n",
       "      <td>0.000000e+00</td>\n",
       "      <td>0.000000e+00</td>\n",
       "      <td>-56.000000</td>\n",
       "      <td>2016-01-08 00:00:00</td>\n",
       "      <td>1.000000</td>\n",
       "    </tr>\n",
       "    <tr>\n",
       "      <th>25%</th>\n",
       "      <td>1.000000</td>\n",
       "      <td>5.579640e+03</td>\n",
       "      <td>1.905000e+02</td>\n",
       "      <td>25.000000</td>\n",
       "      <td>2016-06-09 00:00:00</td>\n",
       "      <td>1.000000</td>\n",
       "    </tr>\n",
       "    <tr>\n",
       "      <th>50%</th>\n",
       "      <td>1.000000</td>\n",
       "      <td>1.864142e+04</td>\n",
       "      <td>5.000000e+02</td>\n",
       "      <td>29.000000</td>\n",
       "      <td>2016-08-19 00:00:00</td>\n",
       "      <td>1.000000</td>\n",
       "    </tr>\n",
       "    <tr>\n",
       "      <th>75%</th>\n",
       "      <td>1.000000</td>\n",
       "      <td>6.150676e+04</td>\n",
       "      <td>1.241155e+03</td>\n",
       "      <td>34.000000</td>\n",
       "      <td>2016-09-09 00:00:00</td>\n",
       "      <td>1.000000</td>\n",
       "    </tr>\n",
       "    <tr>\n",
       "      <th>max</th>\n",
       "      <td>6.000000</td>\n",
       "      <td>1.150355e+08</td>\n",
       "      <td>1.560035e+06</td>\n",
       "      <td>216.000000</td>\n",
       "      <td>2016-12-09 00:00:00</td>\n",
       "      <td>336.000000</td>\n",
       "    </tr>\n",
       "    <tr>\n",
       "      <th>std</th>\n",
       "      <td>0.449134</td>\n",
       "      <td>8.007375e+05</td>\n",
       "      <td>6.432428e+03</td>\n",
       "      <td>51.255475</td>\n",
       "      <td>NaN</td>\n",
       "      <td>46.667936</td>\n",
       "    </tr>\n",
       "  </tbody>\n",
       "</table>\n",
       "</div>"
      ],
      "text/plain": [
       "           Frequency  CustAccountBalance  TransactionAmount (INR)  \\\n",
       "count  880115.000000        8.801150e+05             8.801150e+05   \n",
       "mean        1.184676        1.146274e+05             1.567101e+03   \n",
       "min         1.000000        0.000000e+00             0.000000e+00   \n",
       "25%         1.000000        5.579640e+03             1.905000e+02   \n",
       "50%         1.000000        1.864142e+04             5.000000e+02   \n",
       "75%         1.000000        6.150676e+04             1.241155e+03   \n",
       "max         6.000000        1.150355e+08             1.560035e+06   \n",
       "std         0.449134        8.007375e+05             6.432428e+03   \n",
       "\n",
       "         CustomerAge                TransactionDate        Recency  \n",
       "count  880115.000000                         880115  880115.000000  \n",
       "mean       36.169507  2016-07-26 00:34:18.358282240      15.886401  \n",
       "min       -56.000000            2016-01-08 00:00:00       1.000000  \n",
       "25%        25.000000            2016-06-09 00:00:00       1.000000  \n",
       "50%        29.000000            2016-08-19 00:00:00       1.000000  \n",
       "75%        34.000000            2016-09-09 00:00:00       1.000000  \n",
       "max       216.000000            2016-12-09 00:00:00     336.000000  \n",
       "std        51.255475                            NaN      46.667936  "
      ]
     },
     "execution_count": 29,
     "metadata": {},
     "output_type": "execute_result"
    }
   ],
   "source": [
    "RMF_data.describe()"
   ]
  },
  {
   "cell_type": "code",
   "execution_count": 30,
   "id": "b749f97d",
   "metadata": {
    "execution": {
     "iopub.execute_input": "2023-09-16T07:00:20.597543Z",
     "iopub.status.busy": "2023-09-16T07:00:20.596593Z",
     "iopub.status.idle": "2023-09-16T07:00:20.788937Z",
     "shell.execute_reply": "2023-09-16T07:00:20.787108Z"
    },
    "papermill": {
     "duration": 0.214806,
     "end_time": "2023-09-16T07:00:20.791505",
     "exception": false,
     "start_time": "2023-09-16T07:00:20.576699",
     "status": "completed"
    },
    "tags": []
   },
   "outputs": [
    {
     "name": "stdout",
     "output_type": "stream",
     "text": [
      "<class 'pandas.core.frame.DataFrame'>\n",
      "RangeIndex: 880115 entries, 0 to 880114\n",
      "Data columns (total 8 columns):\n",
      " #   Column                   Non-Null Count   Dtype         \n",
      "---  ------                   --------------   -----         \n",
      " 0   Frequency                880115 non-null  int64         \n",
      " 1   CustGender               880115 non-null  object        \n",
      " 2   CustLocation             880115 non-null  object        \n",
      " 3   CustAccountBalance       880115 non-null  float64       \n",
      " 4   TransactionAmount (INR)  880115 non-null  float64       \n",
      " 5   CustomerAge              880115 non-null  int32         \n",
      " 6   TransactionDate          880115 non-null  datetime64[ns]\n",
      " 7   Recency                  880115 non-null  int64         \n",
      "dtypes: datetime64[ns](1), float64(2), int32(1), int64(2), object(2)\n",
      "memory usage: 50.4+ MB\n"
     ]
    }
   ],
   "source": [
    "RMF_data.info()"
   ]
  },
  {
   "cell_type": "code",
   "execution_count": 31,
   "id": "925d6fb5",
   "metadata": {
    "execution": {
     "iopub.execute_input": "2023-09-16T07:00:20.836210Z",
     "iopub.status.busy": "2023-09-16T07:00:20.834304Z",
     "iopub.status.idle": "2023-09-16T07:00:21.094171Z",
     "shell.execute_reply": "2023-09-16T07:00:21.093151Z"
    },
    "papermill": {
     "duration": 0.283748,
     "end_time": "2023-09-16T07:00:21.096541",
     "exception": false,
     "start_time": "2023-09-16T07:00:20.812793",
     "status": "completed"
    },
    "tags": []
   },
   "outputs": [],
   "source": [
    "from sklearn.preprocessing import LabelEncoder\n",
    "\n",
    "lr=LabelEncoder()\n",
    "\n",
    "RMF_data['CustGender']=lr.fit_transform(RMF_data['CustGender'])"
   ]
  },
  {
   "cell_type": "code",
   "execution_count": 32,
   "id": "a5b17ae7",
   "metadata": {
    "execution": {
     "iopub.execute_input": "2023-09-16T07:00:21.134818Z",
     "iopub.status.busy": "2023-09-16T07:00:21.134488Z",
     "iopub.status.idle": "2023-09-16T07:00:21.451402Z",
     "shell.execute_reply": "2023-09-16T07:00:21.450301Z"
    },
    "papermill": {
     "duration": 0.338761,
     "end_time": "2023-09-16T07:00:21.454216",
     "exception": false,
     "start_time": "2023-09-16T07:00:21.115455",
     "status": "completed"
    },
    "tags": []
   },
   "outputs": [],
   "source": [
    "from sklearn.preprocessing import LabelEncoder\n",
    "\n",
    "lr=LabelEncoder()\n",
    "\n",
    "RMF_data['CustLocation']=lr.fit_transform(RMF_data['CustLocation'])"
   ]
  },
  {
   "cell_type": "code",
   "execution_count": 33,
   "id": "e88eeced",
   "metadata": {
    "execution": {
     "iopub.execute_input": "2023-09-16T07:00:21.495080Z",
     "iopub.status.busy": "2023-09-16T07:00:21.494741Z",
     "iopub.status.idle": "2023-09-16T07:00:22.291037Z",
     "shell.execute_reply": "2023-09-16T07:00:22.290020Z"
    },
    "papermill": {
     "duration": 0.820028,
     "end_time": "2023-09-16T07:00:22.294126",
     "exception": false,
     "start_time": "2023-09-16T07:00:21.474098",
     "status": "completed"
    },
    "tags": []
   },
   "outputs": [
    {
     "data": {
      "text/plain": [
       "<Axes: >"
      ]
     },
     "execution_count": 33,
     "metadata": {},
     "output_type": "execute_result"
    },
    {
     "data": {
      "image/png": "[encoded data removed]",
      "text/plain": [
       "<Figure size 700x500 with 2 Axes>"
      ]
     },
     "metadata": {},
     "output_type": "display_data"
    }
   ],
   "source": [
    "#correlation bw features\n",
    "plt.figure(figsize=(7,5))\n",
    "correlation=RMF_data.corr()\n",
    "sns.heatmap(correlation,vmin=None,vmax=0.8,cmap='rocket_r',annot=True,fmt='.1f',linecolor='white',cbar=True)"
   ]
  },
  {
   "cell_type": "code",
   "execution_count": 34,
   "id": "5b9a82d1",
   "metadata": {
    "execution": {
     "iopub.execute_input": "2023-09-16T07:00:22.339272Z",
     "iopub.status.busy": "2023-09-16T07:00:22.338955Z",
     "iopub.status.idle": "2023-09-16T07:00:22.353263Z",
     "shell.execute_reply": "2023-09-16T07:00:22.352149Z"
    },
    "papermill": {
     "duration": 0.041065,
     "end_time": "2023-09-16T07:00:22.357245",
     "exception": false,
     "start_time": "2023-09-16T07:00:22.316180",
     "status": "completed"
    },
    "tags": []
   },
   "outputs": [
    {
     "data": {
      "text/html": [
       "<div>\n",
       "<style scoped>\n",
       "    .dataframe tbody tr th:only-of-type {\n",
       "        vertical-align: middle;\n",
       "    }\n",
       "\n",
       "    .dataframe tbody tr th {\n",
       "        vertical-align: top;\n",
       "    }\n",
       "\n",
       "    .dataframe thead th {\n",
       "        text-align: right;\n",
       "    }\n",
       "</style>\n",
       "<table border=\"1\" class=\"dataframe\">\n",
       "  <thead>\n",
       "    <tr style=\"text-align: right;\">\n",
       "      <th></th>\n",
       "      <th>Frequency</th>\n",
       "      <th>CustGender</th>\n",
       "      <th>CustLocation</th>\n",
       "      <th>CustAccountBalance</th>\n",
       "      <th>TransactionAmount (INR)</th>\n",
       "      <th>CustomerAge</th>\n",
       "      <th>TransactionDate</th>\n",
       "      <th>Recency</th>\n",
       "    </tr>\n",
       "  </thead>\n",
       "  <tbody>\n",
       "    <tr>\n",
       "      <th>0</th>\n",
       "      <td>2</td>\n",
       "      <td>0</td>\n",
       "      <td>5632</td>\n",
       "      <td>76340.635</td>\n",
       "      <td>2553.0</td>\n",
       "      <td>33</td>\n",
       "      <td>2016-09-17</td>\n",
       "      <td>18</td>\n",
       "    </tr>\n",
       "    <tr>\n",
       "      <th>1</th>\n",
       "      <td>1</td>\n",
       "      <td>1</td>\n",
       "      <td>5040</td>\n",
       "      <td>24204.490</td>\n",
       "      <td>1499.0</td>\n",
       "      <td>22</td>\n",
       "      <td>2016-08-14</td>\n",
       "      <td>1</td>\n",
       "    </tr>\n",
       "    <tr>\n",
       "      <th>2</th>\n",
       "      <td>2</td>\n",
       "      <td>0</td>\n",
       "      <td>5040</td>\n",
       "      <td>100112.950</td>\n",
       "      <td>727.5</td>\n",
       "      <td>32</td>\n",
       "      <td>2016-04-08</td>\n",
       "      <td>182</td>\n",
       "    </tr>\n",
       "    <tr>\n",
       "      <th>3</th>\n",
       "      <td>1</td>\n",
       "      <td>0</td>\n",
       "      <td>1452</td>\n",
       "      <td>496.180</td>\n",
       "      <td>30.0</td>\n",
       "      <td>26</td>\n",
       "      <td>2016-09-15</td>\n",
       "      <td>1</td>\n",
       "    </tr>\n",
       "    <tr>\n",
       "      <th>4</th>\n",
       "      <td>1</td>\n",
       "      <td>1</td>\n",
       "      <td>4087</td>\n",
       "      <td>87058.650</td>\n",
       "      <td>5000.0</td>\n",
       "      <td>-49</td>\n",
       "      <td>2016-08-18</td>\n",
       "      <td>1</td>\n",
       "    </tr>\n",
       "  </tbody>\n",
       "</table>\n",
       "</div>"
      ],
      "text/plain": [
       "   Frequency  CustGender  CustLocation  CustAccountBalance  \\\n",
       "0          2           0          5632           76340.635   \n",
       "1          1           1          5040           24204.490   \n",
       "2          2           0          5040          100112.950   \n",
       "3          1           0          1452             496.180   \n",
       "4          1           1          4087           87058.650   \n",
       "\n",
       "   TransactionAmount (INR)  CustomerAge TransactionDate  Recency  \n",
       "0                   2553.0           33      2016-09-17       18  \n",
       "1                   1499.0           22      2016-08-14        1  \n",
       "2                    727.5           32      2016-04-08      182  \n",
       "3                     30.0           26      2016-09-15        1  \n",
       "4                   5000.0          -49      2016-08-18        1  "
      ]
     },
     "execution_count": 34,
     "metadata": {},
     "output_type": "execute_result"
    }
   ],
   "source": [
    "RMF_data.reset_index(drop=True,inplace=True)\n",
    "RMF_data.head()"
   ]
  },
  {
   "cell_type": "code",
   "execution_count": 35,
   "id": "90857613",
   "metadata": {
    "execution": {
     "iopub.execute_input": "2023-09-16T07:00:22.400276Z",
     "iopub.status.busy": "2023-09-16T07:00:22.399990Z",
     "iopub.status.idle": "2023-09-16T07:00:22.569714Z",
     "shell.execute_reply": "2023-09-16T07:00:22.568554Z"
    },
    "papermill": {
     "duration": 0.194086,
     "end_time": "2023-09-16T07:00:22.572782",
     "exception": false,
     "start_time": "2023-09-16T07:00:22.378696",
     "status": "completed"
    },
    "tags": []
   },
   "outputs": [],
   "source": [
    "minmax = MinMaxScaler()\n",
    "standard_scaler = StandardScaler()\n",
    "RMf_scaled = RMF_data.copy()\n",
    "RMf_scaled[[\"Frequency\",\"CustGender\",\"Recency\",\"CustLocation\"]] = minmax.fit_transform(RMF_data[[\"Frequency\",\"CustGender\",\"Recency\",\"CustLocation\"]])\n",
    "RMf_scaled[[\"CustAccountBalance\",\"TransactionAmount (INR)\",\"CustomerAge\"]] = standard_scaler.fit_transform(RMF_data[[\"CustAccountBalance\",\"TransactionAmount (INR)\",\"CustomerAge\"]])"
   ]
  },
  {
   "cell_type": "code",
   "execution_count": 36,
   "id": "c2a139e1",
   "metadata": {
    "execution": {
     "iopub.execute_input": "2023-09-16T07:00:22.619521Z",
     "iopub.status.busy": "2023-09-16T07:00:22.618571Z",
     "iopub.status.idle": "2023-09-16T07:00:22.635441Z",
     "shell.execute_reply": "2023-09-16T07:00:22.634284Z"
    },
    "papermill": {
     "duration": 0.04158,
     "end_time": "2023-09-16T07:00:22.637739",
     "exception": false,
     "start_time": "2023-09-16T07:00:22.596159",
     "status": "completed"
    },
    "tags": []
   },
   "outputs": [
    {
     "data": {
      "text/html": [
       "<div>\n",
       "<style scoped>\n",
       "    .dataframe tbody tr th:only-of-type {\n",
       "        vertical-align: middle;\n",
       "    }\n",
       "\n",
       "    .dataframe tbody tr th {\n",
       "        vertical-align: top;\n",
       "    }\n",
       "\n",
       "    .dataframe thead th {\n",
       "        text-align: right;\n",
       "    }\n",
       "</style>\n",
       "<table border=\"1\" class=\"dataframe\">\n",
       "  <thead>\n",
       "    <tr style=\"text-align: right;\">\n",
       "      <th></th>\n",
       "      <th>Frequency</th>\n",
       "      <th>CustGender</th>\n",
       "      <th>CustLocation</th>\n",
       "      <th>CustAccountBalance</th>\n",
       "      <th>TransactionAmount (INR)</th>\n",
       "      <th>CustomerAge</th>\n",
       "      <th>TransactionDate</th>\n",
       "      <th>Recency</th>\n",
       "    </tr>\n",
       "  </thead>\n",
       "  <tbody>\n",
       "    <tr>\n",
       "      <th>0</th>\n",
       "      <td>0.2</td>\n",
       "      <td>0.0</td>\n",
       "      <td>0.629414</td>\n",
       "      <td>-0.047814</td>\n",
       "      <td>0.153270</td>\n",
       "      <td>-0.061837</td>\n",
       "      <td>2016-09-17</td>\n",
       "      <td>0.050746</td>\n",
       "    </tr>\n",
       "    <tr>\n",
       "      <th>1</th>\n",
       "      <td>0.0</td>\n",
       "      <td>0.5</td>\n",
       "      <td>0.563254</td>\n",
       "      <td>-0.112925</td>\n",
       "      <td>-0.010587</td>\n",
       "      <td>-0.276449</td>\n",
       "      <td>2016-08-14</td>\n",
       "      <td>0.000000</td>\n",
       "    </tr>\n",
       "    <tr>\n",
       "      <th>2</th>\n",
       "      <td>0.2</td>\n",
       "      <td>0.0</td>\n",
       "      <td>0.563254</td>\n",
       "      <td>-0.018126</td>\n",
       "      <td>-0.130526</td>\n",
       "      <td>-0.081348</td>\n",
       "      <td>2016-04-08</td>\n",
       "      <td>0.540299</td>\n",
       "    </tr>\n",
       "    <tr>\n",
       "      <th>3</th>\n",
       "      <td>0.0</td>\n",
       "      <td>0.0</td>\n",
       "      <td>0.162271</td>\n",
       "      <td>-0.142533</td>\n",
       "      <td>-0.238961</td>\n",
       "      <td>-0.198408</td>\n",
       "      <td>2016-09-15</td>\n",
       "      <td>0.000000</td>\n",
       "    </tr>\n",
       "    <tr>\n",
       "      <th>4</th>\n",
       "      <td>0.0</td>\n",
       "      <td>0.5</td>\n",
       "      <td>0.456750</td>\n",
       "      <td>-0.034429</td>\n",
       "      <td>0.533687</td>\n",
       "      <td>-1.661667</td>\n",
       "      <td>2016-08-18</td>\n",
       "      <td>0.000000</td>\n",
       "    </tr>\n",
       "  </tbody>\n",
       "</table>\n",
       "</div>"
      ],
      "text/plain": [
       "   Frequency  CustGender  CustLocation  CustAccountBalance  \\\n",
       "0        0.2         0.0      0.629414           -0.047814   \n",
       "1        0.0         0.5      0.563254           -0.112925   \n",
       "2        0.2         0.0      0.563254           -0.018126   \n",
       "3        0.0         0.0      0.162271           -0.142533   \n",
       "4        0.0         0.5      0.456750           -0.034429   \n",
       "\n",
       "   TransactionAmount (INR)  CustomerAge TransactionDate   Recency  \n",
       "0                 0.153270    -0.061837      2016-09-17  0.050746  \n",
       "1                -0.010587    -0.276449      2016-08-14  0.000000  \n",
       "2                -0.130526    -0.081348      2016-04-08  0.540299  \n",
       "3                -0.238961    -0.198408      2016-09-15  0.000000  \n",
       "4                 0.533687    -1.661667      2016-08-18  0.000000  "
      ]
     },
     "execution_count": 36,
     "metadata": {},
     "output_type": "execute_result"
    }
   ],
   "source": [
    "RMf_scaled.head()"
   ]
  },
  {
   "cell_type": "code",
   "execution_count": 37,
   "id": "e2b1388e",
   "metadata": {
    "execution": {
     "iopub.execute_input": "2023-09-16T07:00:22.679246Z",
     "iopub.status.busy": "2023-09-16T07:00:22.678594Z",
     "iopub.status.idle": "2023-09-16T07:00:22.700448Z",
     "shell.execute_reply": "2023-09-16T07:00:22.699347Z"
    },
    "papermill": {
     "duration": 0.044559,
     "end_time": "2023-09-16T07:00:22.702639",
     "exception": false,
     "start_time": "2023-09-16T07:00:22.658080",
     "status": "completed"
    },
    "tags": []
   },
   "outputs": [
    {
     "name": "stdout",
     "output_type": "stream",
     "text": [
      "<class 'pandas.core.frame.DataFrame'>\n",
      "RangeIndex: 880115 entries, 0 to 880114\n",
      "Data columns (total 8 columns):\n",
      " #   Column                   Non-Null Count   Dtype         \n",
      "---  ------                   --------------   -----         \n",
      " 0   Frequency                880115 non-null  float64       \n",
      " 1   CustGender               880115 non-null  float64       \n",
      " 2   CustLocation             880115 non-null  float64       \n",
      " 3   CustAccountBalance       880115 non-null  float64       \n",
      " 4   TransactionAmount (INR)  880115 non-null  float64       \n",
      " 5   CustomerAge              880115 non-null  float64       \n",
      " 6   TransactionDate          880115 non-null  datetime64[ns]\n",
      " 7   Recency                  880115 non-null  float64       \n",
      "dtypes: datetime64[ns](1), float64(7)\n",
      "memory usage: 53.7 MB\n"
     ]
    }
   ],
   "source": [
    "RMf_scaled.info()"
   ]
  },
  {
   "cell_type": "code",
   "execution_count": 38,
   "id": "f9a89347",
   "metadata": {
    "execution": {
     "iopub.execute_input": "2023-09-16T07:00:22.745993Z",
     "iopub.status.busy": "2023-09-16T07:00:22.745162Z",
     "iopub.status.idle": "2023-09-16T07:00:22.769158Z",
     "shell.execute_reply": "2023-09-16T07:00:22.768205Z"
    },
    "papermill": {
     "duration": 0.04709,
     "end_time": "2023-09-16T07:00:22.771206",
     "exception": false,
     "start_time": "2023-09-16T07:00:22.724116",
     "status": "completed"
    },
    "tags": []
   },
   "outputs": [],
   "source": [
    "RMf_scaled.drop(columns=[\"TransactionDate\"],inplace=True)"
   ]
  },
  {
   "cell_type": "code",
   "execution_count": 39,
   "id": "83dfa899",
   "metadata": {
    "execution": {
     "iopub.execute_input": "2023-09-16T07:00:22.813340Z",
     "iopub.status.busy": "2023-09-16T07:00:22.812531Z",
     "iopub.status.idle": "2023-09-16T07:00:22.833196Z",
     "shell.execute_reply": "2023-09-16T07:00:22.831892Z"
    },
    "papermill": {
     "duration": 0.044537,
     "end_time": "2023-09-16T07:00:22.835948",
     "exception": false,
     "start_time": "2023-09-16T07:00:22.791411",
     "status": "completed"
    },
    "tags": []
   },
   "outputs": [
    {
     "name": "stdout",
     "output_type": "stream",
     "text": [
      "<class 'pandas.core.frame.DataFrame'>\n",
      "RangeIndex: 880115 entries, 0 to 880114\n",
      "Data columns (total 7 columns):\n",
      " #   Column                   Non-Null Count   Dtype  \n",
      "---  ------                   --------------   -----  \n",
      " 0   Frequency                880115 non-null  float64\n",
      " 1   CustGender               880115 non-null  float64\n",
      " 2   CustLocation             880115 non-null  float64\n",
      " 3   CustAccountBalance       880115 non-null  float64\n",
      " 4   TransactionAmount (INR)  880115 non-null  float64\n",
      " 5   CustomerAge              880115 non-null  float64\n",
      " 6   Recency                  880115 non-null  float64\n",
      "dtypes: float64(7)\n",
      "memory usage: 47.0 MB\n"
     ]
    }
   ],
   "source": [
    "RMf_scaled.info()"
   ]
  },
  {
   "cell_type": "markdown",
   "id": "a018c757",
   "metadata": {
    "papermill": {
     "duration": 0.021867,
     "end_time": "2023-09-16T07:00:22.881834",
     "exception": false,
     "start_time": "2023-09-16T07:00:22.859967",
     "status": "completed"
    },
    "tags": []
   },
   "source": [
    "# Modelling"
   ]
  },
  {
   "cell_type": "markdown",
   "id": "65a5df7b",
   "metadata": {
    "papermill": {
     "duration": 0.023017,
     "end_time": "2023-09-16T07:00:22.926519",
     "exception": false,
     "start_time": "2023-09-16T07:00:22.903502",
     "status": "completed"
    },
    "tags": []
   },
   "source": [
    "*Subset Selection*"
   ]
  },
  {
   "cell_type": "code",
   "execution_count": 40,
   "id": "bbe2c360",
   "metadata": {
    "execution": {
     "iopub.execute_input": "2023-09-16T07:00:22.969813Z",
     "iopub.status.busy": "2023-09-16T07:00:22.969415Z",
     "iopub.status.idle": "2023-09-16T07:00:23.012496Z",
     "shell.execute_reply": "2023-09-16T07:00:23.011281Z"
    },
    "papermill": {
     "duration": 0.067945,
     "end_time": "2023-09-16T07:00:23.015405",
     "exception": false,
     "start_time": "2023-09-16T07:00:22.947460",
     "status": "completed"
    },
    "tags": []
   },
   "outputs": [
    {
     "data": {
      "text/html": [
       "<div>\n",
       "<style scoped>\n",
       "    .dataframe tbody tr th:only-of-type {\n",
       "        vertical-align: middle;\n",
       "    }\n",
       "\n",
       "    .dataframe tbody tr th {\n",
       "        vertical-align: top;\n",
       "    }\n",
       "\n",
       "    .dataframe thead th {\n",
       "        text-align: right;\n",
       "    }\n",
       "</style>\n",
       "<table border=\"1\" class=\"dataframe\">\n",
       "  <thead>\n",
       "    <tr style=\"text-align: right;\">\n",
       "      <th></th>\n",
       "      <th>Frequency</th>\n",
       "      <th>CustGender</th>\n",
       "      <th>CustLocation</th>\n",
       "      <th>CustAccountBalance</th>\n",
       "      <th>TransactionAmount (INR)</th>\n",
       "      <th>CustomerAge</th>\n",
       "      <th>Recency</th>\n",
       "    </tr>\n",
       "  </thead>\n",
       "  <tbody>\n",
       "    <tr>\n",
       "      <th>0</th>\n",
       "      <td>0.0</td>\n",
       "      <td>0.5</td>\n",
       "      <td>0.329459</td>\n",
       "      <td>-0.115036</td>\n",
       "      <td>-0.184550</td>\n",
       "      <td>-0.198408</td>\n",
       "      <td>0.000000</td>\n",
       "    </tr>\n",
       "    <tr>\n",
       "      <th>1</th>\n",
       "      <td>0.0</td>\n",
       "      <td>0.5</td>\n",
       "      <td>0.629414</td>\n",
       "      <td>-0.141870</td>\n",
       "      <td>-0.228390</td>\n",
       "      <td>-0.042327</td>\n",
       "      <td>0.000000</td>\n",
       "    </tr>\n",
       "    <tr>\n",
       "      <th>2</th>\n",
       "      <td>0.4</td>\n",
       "      <td>0.5</td>\n",
       "      <td>0.830577</td>\n",
       "      <td>-0.117108</td>\n",
       "      <td>-0.194914</td>\n",
       "      <td>-0.159388</td>\n",
       "      <td>0.671642</td>\n",
       "    </tr>\n",
       "    <tr>\n",
       "      <th>3</th>\n",
       "      <td>0.0</td>\n",
       "      <td>0.0</td>\n",
       "      <td>0.171323</td>\n",
       "      <td>-0.121612</td>\n",
       "      <td>-0.212533</td>\n",
       "      <td>-0.315469</td>\n",
       "      <td>0.000000</td>\n",
       "    </tr>\n",
       "    <tr>\n",
       "      <th>4</th>\n",
       "      <td>0.0</td>\n",
       "      <td>0.0</td>\n",
       "      <td>0.234242</td>\n",
       "      <td>-0.132974</td>\n",
       "      <td>-0.181440</td>\n",
       "      <td>-0.256939</td>\n",
       "      <td>0.000000</td>\n",
       "    </tr>\n",
       "  </tbody>\n",
       "</table>\n",
       "</div>"
      ],
      "text/plain": [
       "   Frequency  CustGender  CustLocation  CustAccountBalance  \\\n",
       "0        0.0         0.5      0.329459           -0.115036   \n",
       "1        0.0         0.5      0.629414           -0.141870   \n",
       "2        0.4         0.5      0.830577           -0.117108   \n",
       "3        0.0         0.0      0.171323           -0.121612   \n",
       "4        0.0         0.0      0.234242           -0.132974   \n",
       "\n",
       "   TransactionAmount (INR)  CustomerAge   Recency  \n",
       "0                -0.184550    -0.198408  0.000000  \n",
       "1                -0.228390    -0.042327  0.000000  \n",
       "2                -0.194914    -0.159388  0.671642  \n",
       "3                -0.212533    -0.315469  0.000000  \n",
       "4                -0.181440    -0.256939  0.000000  "
      ]
     },
     "execution_count": 40,
     "metadata": {},
     "output_type": "execute_result"
    }
   ],
   "source": [
    "RMf_scaled=RMf_scaled.sample(n=4500,random_state=69).reset_index(drop=True)\n",
    "RMf_scaled.head()"
   ]
  },
  {
   "cell_type": "markdown",
   "id": "eefe90cb",
   "metadata": {
    "papermill": {
     "duration": 0.020848,
     "end_time": "2023-09-16T07:00:23.059426",
     "exception": false,
     "start_time": "2023-09-16T07:00:23.038578",
     "status": "completed"
    },
    "tags": []
   },
   "source": [
    "# PCA"
   ]
  },
  {
   "cell_type": "code",
   "execution_count": 41,
   "id": "ec722269",
   "metadata": {
    "execution": {
     "iopub.execute_input": "2023-09-16T07:00:23.105362Z",
     "iopub.status.busy": "2023-09-16T07:00:23.104790Z",
     "iopub.status.idle": "2023-09-16T07:00:23.443531Z",
     "shell.execute_reply": "2023-09-16T07:00:23.442608Z"
    },
    "papermill": {
     "duration": 0.365569,
     "end_time": "2023-09-16T07:00:23.445722",
     "exception": false,
     "start_time": "2023-09-16T07:00:23.080153",
     "status": "completed"
    },
    "tags": []
   },
   "outputs": [
    {
     "data": {
      "image/png": "[encoded data removed]",
      "text/plain": [
       "<Figure size 800x550 with 1 Axes>"
      ]
     },
     "metadata": {},
     "output_type": "display_data"
    }
   ],
   "source": [
    "trial_pca=PCA(n_components=4)\n",
    "trial_pca.fit(RMf_scaled)\n",
    "trial=trial_pca.transform(RMf_scaled)\n",
    "plt.plot(list(trial_pca.explained_variance_ratio_),'-o')\n",
    "plt.title('Explains variance ratio as function of PCA components')\n",
    "plt.ylabel('Explains variance ratio')\n",
    "plt.xlabel('Components')\n",
    "plt.show()"
   ]
  },
  {
   "cell_type": "code",
   "execution_count": 42,
   "id": "cff6587b",
   "metadata": {
    "execution": {
     "iopub.execute_input": "2023-09-16T07:00:23.491504Z",
     "iopub.status.busy": "2023-09-16T07:00:23.490573Z",
     "iopub.status.idle": "2023-09-16T07:00:23.856465Z",
     "shell.execute_reply": "2023-09-16T07:00:23.855573Z"
    },
    "papermill": {
     "duration": 0.391134,
     "end_time": "2023-09-16T07:00:23.858928",
     "exception": false,
     "start_time": "2023-09-16T07:00:23.467794",
     "status": "completed"
    },
    "tags": []
   },
   "outputs": [
    {
     "data": {
      "image/png": "[encoded data removed]",
      "text/plain": [
       "<Figure size 800x550 with 1 Axes>"
      ]
     },
     "metadata": {},
     "output_type": "display_data"
    }
   ],
   "source": [
    "trial_pca=PCA(n_components=3)\n",
    "trial_pca.fit(RMf_scaled)\n",
    "trial=trial_pca.transform(RMf_scaled)\n",
    "plt.plot(list(trial_pca.explained_variance_ratio_),'-o')\n",
    "plt.title('Explains variance ratio as function of PCA components')\n",
    "plt.ylabel('Explains variance ratio')\n",
    "plt.xlabel('Components')\n",
    "plt.show()"
   ]
  },
  {
   "cell_type": "code",
   "execution_count": 43,
   "id": "caa610a7",
   "metadata": {
    "execution": {
     "iopub.execute_input": "2023-09-16T07:00:23.905858Z",
     "iopub.status.busy": "2023-09-16T07:00:23.905005Z",
     "iopub.status.idle": "2023-09-16T07:00:23.922029Z",
     "shell.execute_reply": "2023-09-16T07:00:23.920699Z"
    },
    "papermill": {
     "duration": 0.042577,
     "end_time": "2023-09-16T07:00:23.924644",
     "exception": false,
     "start_time": "2023-09-16T07:00:23.882067",
     "status": "completed"
    },
    "tags": []
   },
   "outputs": [],
   "source": [
    "RMF_pca=PCA(n_components=3)\n",
    "reduced_features=RMF_pca.fit_transform(RMf_scaled)\n",
    "X_principal=pd.DataFrame(reduced_features)\n",
    "X_principal.columns=['P1','P2','P3']"
   ]
  },
  {
   "cell_type": "markdown",
   "id": "f87cdc14",
   "metadata": {
    "papermill": {
     "duration": 0.04692,
     "end_time": "2023-09-16T07:00:24.022323",
     "exception": false,
     "start_time": "2023-09-16T07:00:23.975403",
     "status": "completed"
    },
    "tags": []
   },
   "source": [
    "# Kmeans"
   ]
  },
  {
   "cell_type": "code",
   "execution_count": 44,
   "id": "4bba4414",
   "metadata": {
    "execution": {
     "iopub.execute_input": "2023-09-16T07:00:24.083219Z",
     "iopub.status.busy": "2023-09-16T07:00:24.082900Z",
     "iopub.status.idle": "2023-09-16T07:00:28.713538Z",
     "shell.execute_reply": "2023-09-16T07:00:28.712011Z"
    },
    "papermill": {
     "duration": 4.658756,
     "end_time": "2023-09-16T07:00:28.718619",
     "exception": false,
     "start_time": "2023-09-16T07:00:24.059863",
     "status": "completed"
    },
    "tags": []
   },
   "outputs": [],
   "source": [
    "WCSS = []\n",
    "silh_scores_kmeans = []\n",
    "db_scores_kmeans = []\n",
    "for n_cluster in range(2,11):\n",
    "    model_kmeans = KMeans(n_clusters=n_cluster,n_init = 10)\n",
    "    model_kmeans.fit(reduced_features)\n",
    "    WCSS.append(model_kmeans.inertia_)\n",
    "    silh_scores_kmeans.append(silhouette_score(reduced_features,model_kmeans.labels_))\n",
    "    db_scores_kmeans.append(davies_bouldin_score(reduced_features,model_kmeans.labels_))"
   ]
  },
  {
   "cell_type": "code",
   "execution_count": 45,
   "id": "da9acd1a",
   "metadata": {
    "execution": {
     "iopub.execute_input": "2023-09-16T07:00:28.832434Z",
     "iopub.status.busy": "2023-09-16T07:00:28.831788Z",
     "iopub.status.idle": "2023-09-16T07:00:29.208565Z",
     "shell.execute_reply": "2023-09-16T07:00:29.207651Z"
    },
    "papermill": {
     "duration": 0.435338,
     "end_time": "2023-09-16T07:00:29.211208",
     "exception": false,
     "start_time": "2023-09-16T07:00:28.775870",
     "status": "completed"
    },
    "tags": []
   },
   "outputs": [
    {
     "data": {
      "text/plain": [
       "<matplotlib.lines.Line2D at 0x7b3c1774ffa0>"
      ]
     },
     "execution_count": 45,
     "metadata": {},
     "output_type": "execute_result"
    },
    {
     "data": {
      "image/png": "[encoded data removed]",
      "text/plain": [
       "<Figure size 800x550 with 1 Axes>"
      ]
     },
     "metadata": {},
     "output_type": "display_data"
    }
   ],
   "source": [
    "plt.style.use(\"fivethirtyeight\")\n",
    "kl=KneeLocator(range(2,11),WCSS,curve='convex',direction='decreasing')\n",
    "plt.plot(range(2,11),WCSS,color='purple',marker='o',label='Elbow Method')\n",
    "plt.xticks(range(2,11))\n",
    "plt.ylabel(\"Number of Clusters\",labelpad=20)\n",
    "plt.xlabel(\"Inertia\",labelpad=20)\n",
    "plt.title(\"Elbow Method\")\n",
    "plt.axvline(x=kl.elbow, color='black',label='axvline-fullheight',ls='--',linewidth=3)"
   ]
  },
  {
   "cell_type": "code",
   "execution_count": 46,
   "id": "4bc3e927",
   "metadata": {
    "execution": {
     "iopub.execute_input": "2023-09-16T07:00:29.259277Z",
     "iopub.status.busy": "2023-09-16T07:00:29.258991Z",
     "iopub.status.idle": "2023-09-16T07:00:29.267428Z",
     "shell.execute_reply": "2023-09-16T07:00:29.266090Z"
    },
    "papermill": {
     "duration": 0.034737,
     "end_time": "2023-09-16T07:00:29.269513",
     "exception": false,
     "start_time": "2023-09-16T07:00:29.234776",
     "status": "completed"
    },
    "tags": []
   },
   "outputs": [
    {
     "data": {
      "text/plain": [
       "(3000, 3)"
      ]
     },
     "execution_count": 46,
     "metadata": {},
     "output_type": "execute_result"
    }
   ],
   "source": [
    "X_principal=X_principal.sample(n=3000,random_state=69).reset_index(drop=True)\n",
    "X_principal.shape"
   ]
  },
  {
   "cell_type": "code",
   "execution_count": 47,
   "id": "560ed305",
   "metadata": {
    "execution": {
     "iopub.execute_input": "2023-09-16T07:00:29.319862Z",
     "iopub.status.busy": "2023-09-16T07:00:29.318990Z",
     "iopub.status.idle": "2023-09-16T07:01:14.580616Z",
     "shell.execute_reply": "2023-09-16T07:01:14.579656Z"
    },
    "papermill": {
     "duration": 45.313473,
     "end_time": "2023-09-16T07:01:14.606960",
     "exception": false,
     "start_time": "2023-09-16T07:00:29.293487",
     "status": "completed"
    },
    "tags": []
   },
   "outputs": [
    {
     "data": {
      "image/png": "[encoded data removed]",
      "text/plain": [
       "<Figure size 800x550 with 1 Axes>"
      ]
     },
     "metadata": {},
     "output_type": "display_data"
    }
   ],
   "source": [
    "plt.title('visualising the data')\n",
    "Dendogram=shc.dendrogram((shc.linkage(X_principal,method='ward')))"
   ]
  },
  {
   "cell_type": "code",
   "execution_count": 48,
   "id": "6a8da63e",
   "metadata": {
    "execution": {
     "iopub.execute_input": "2023-09-16T07:01:14.658308Z",
     "iopub.status.busy": "2023-09-16T07:01:14.657987Z",
     "iopub.status.idle": "2023-09-16T07:01:18.840896Z",
     "shell.execute_reply": "2023-09-16T07:01:18.839824Z"
    },
    "papermill": {
     "duration": 4.211633,
     "end_time": "2023-09-16T07:01:18.843856",
     "exception": false,
     "start_time": "2023-09-16T07:01:14.632223",
     "status": "completed"
    },
    "tags": []
   },
   "outputs": [],
   "source": [
    "silh_scores_agglo = []\n",
    "db_scores_agglo = []\n",
    "\n",
    "for n_cluster in range(2,11):\n",
    "    model_agglo = AgglomerativeClustering(n_clusters=n_cluster)\n",
    "    model_agglo.fit(X_principal)\n",
    "    \n",
    "    silh_scores_agglo.append(silhouette_score(X_principal,model_agglo.labels_))\n",
    "    db_scores_agglo.append(davies_bouldin_score(X_principal,model_agglo.labels_))"
   ]
  },
  {
   "cell_type": "code",
   "execution_count": 49,
   "id": "cd108da2",
   "metadata": {
    "execution": {
     "iopub.execute_input": "2023-09-16T07:01:18.897102Z",
     "iopub.status.busy": "2023-09-16T07:01:18.896755Z",
     "iopub.status.idle": "2023-09-16T07:01:19.281531Z",
     "shell.execute_reply": "2023-09-16T07:01:19.280607Z"
    },
    "papermill": {
     "duration": 0.413788,
     "end_time": "2023-09-16T07:01:19.283749",
     "exception": false,
     "start_time": "2023-09-16T07:01:18.869961",
     "status": "completed"
    },
    "tags": []
   },
   "outputs": [
    {
     "data": {
      "image/png": "[encoded data removed]",
      "text/plain": [
       "<Figure size 1200x500 with 1 Axes>"
      ]
     },
     "metadata": {},
     "output_type": "display_data"
    }
   ],
   "source": [
    "plt.figure(figsize=(12,5))\n",
    "plt.plot(range(2,11),silh_scores_agglo,label=\"Silhouette Score\")\n",
    "plt.plot(range(2,11),db_scores_agglo,label=\"Davies Bouldine Score\")\n",
    "plt.xlabel(\"Number of Clusters\")\n",
    "plt.ylabel(\"Metrics\")\n",
    "plt.title(\"Metric Evaluation for Agglomerative Clustering \")\n",
    "plt.legend()\n",
    "plt.show()"
   ]
  },
  {
   "cell_type": "code",
   "execution_count": 50,
   "id": "d8ec6e27",
   "metadata": {
    "execution": {
     "iopub.execute_input": "2023-09-16T07:01:19.332553Z",
     "iopub.status.busy": "2023-09-16T07:01:19.332272Z",
     "iopub.status.idle": "2023-09-16T07:01:19.524156Z",
     "shell.execute_reply": "2023-09-16T07:01:19.522909Z"
    },
    "papermill": {
     "duration": 0.218961,
     "end_time": "2023-09-16T07:01:19.526722",
     "exception": false,
     "start_time": "2023-09-16T07:01:19.307761",
     "status": "completed"
    },
    "tags": []
   },
   "outputs": [],
   "source": [
    "db=DBSCAN(eps=10,min_samples=1000).fit(X_principal)\n",
    "core_samples_mask=np.zeros_like(db.labels_,dtype=bool)\n",
    "core_samples_mask[db.core_sample_indices_]=True\n",
    "labels=db.labels_"
   ]
  },
  {
   "cell_type": "code",
   "execution_count": 51,
   "id": "b19adf26",
   "metadata": {
    "execution": {
     "iopub.execute_input": "2023-09-16T07:01:19.577148Z",
     "iopub.status.busy": "2023-09-16T07:01:19.576815Z",
     "iopub.status.idle": "2023-09-16T07:01:19.589526Z",
     "shell.execute_reply": "2023-09-16T07:01:19.588266Z"
    },
    "papermill": {
     "duration": 0.041902,
     "end_time": "2023-09-16T07:01:19.593291",
     "exception": false,
     "start_time": "2023-09-16T07:01:19.551389",
     "status": "completed"
    },
    "tags": []
   },
   "outputs": [
    {
     "data": {
      "text/html": [
       "<div>\n",
       "<style scoped>\n",
       "    .dataframe tbody tr th:only-of-type {\n",
       "        vertical-align: middle;\n",
       "    }\n",
       "\n",
       "    .dataframe tbody tr th {\n",
       "        vertical-align: top;\n",
       "    }\n",
       "\n",
       "    .dataframe thead th {\n",
       "        text-align: right;\n",
       "    }\n",
       "</style>\n",
       "<table border=\"1\" class=\"dataframe\">\n",
       "  <thead>\n",
       "    <tr style=\"text-align: right;\">\n",
       "      <th></th>\n",
       "      <th>P1</th>\n",
       "      <th>P2</th>\n",
       "      <th>P3</th>\n",
       "      <th>Label</th>\n",
       "    </tr>\n",
       "  </thead>\n",
       "  <tbody>\n",
       "    <tr>\n",
       "      <th>0</th>\n",
       "      <td>0.032513</td>\n",
       "      <td>-0.177152</td>\n",
       "      <td>-0.092103</td>\n",
       "      <td>0</td>\n",
       "    </tr>\n",
       "    <tr>\n",
       "      <th>1</th>\n",
       "      <td>3.491091</td>\n",
       "      <td>-0.474326</td>\n",
       "      <td>-0.165164</td>\n",
       "      <td>0</td>\n",
       "    </tr>\n",
       "    <tr>\n",
       "      <th>2</th>\n",
       "      <td>0.125810</td>\n",
       "      <td>-0.246876</td>\n",
       "      <td>-0.073948</td>\n",
       "      <td>0</td>\n",
       "    </tr>\n",
       "    <tr>\n",
       "      <th>3</th>\n",
       "      <td>-0.151079</td>\n",
       "      <td>0.066136</td>\n",
       "      <td>0.285374</td>\n",
       "      <td>0</td>\n",
       "    </tr>\n",
       "    <tr>\n",
       "      <th>4</th>\n",
       "      <td>-0.247979</td>\n",
       "      <td>-0.168761</td>\n",
       "      <td>-0.066768</td>\n",
       "      <td>0</td>\n",
       "    </tr>\n",
       "  </tbody>\n",
       "</table>\n",
       "</div>"
      ],
      "text/plain": [
       "         P1        P2        P3  Label\n",
       "0  0.032513 -0.177152 -0.092103      0\n",
       "1  3.491091 -0.474326 -0.165164      0\n",
       "2  0.125810 -0.246876 -0.073948      0\n",
       "3 -0.151079  0.066136  0.285374      0\n",
       "4 -0.247979 -0.168761 -0.066768      0"
      ]
     },
     "execution_count": 51,
     "metadata": {},
     "output_type": "execute_result"
    }
   ],
   "source": [
    "X_principal['Label']=labels\n",
    "X_principal.head()"
   ]
  },
  {
   "cell_type": "code",
   "execution_count": 52,
   "id": "79f59a60",
   "metadata": {
    "execution": {
     "iopub.execute_input": "2023-09-16T07:01:19.648533Z",
     "iopub.status.busy": "2023-09-16T07:01:19.648240Z",
     "iopub.status.idle": "2023-09-16T07:01:20.198823Z",
     "shell.execute_reply": "2023-09-16T07:01:20.197762Z"
    },
    "papermill": {
     "duration": 0.581413,
     "end_time": "2023-09-16T07:01:20.201949",
     "exception": false,
     "start_time": "2023-09-16T07:01:19.620536",
     "status": "completed"
    },
    "tags": []
   },
   "outputs": [
    {
     "data": {
      "image/png": "[encoded data removed]",
      "text/plain": [
       "<Figure size 800x550 with 1 Axes>"
      ]
     },
     "metadata": {},
     "output_type": "display_data"
    }
   ],
   "source": [
    "ax = plt.axes(projection='3d')\n",
    "ax.scatter3D('P1','P2','P3',c = 'Label',data = X_principal,cmap='viridis',linewidth=0.5)\n",
    "ax.set_xlabel('P1')\n",
    "ax.set_ylabel('P2')\n",
    "ax.set_zlabel('P3')\n",
    "plt.title('DBScan Clustering')\n",
    "plt.legend()\n",
    "plt.show()"
   ]
  },
  {
   "cell_type": "code",
   "execution_count": null,
   "id": "dddafc4a",
   "metadata": {
    "papermill": {
     "duration": 0.037398,
     "end_time": "2023-09-16T07:01:20.280005",
     "exception": false,
     "start_time": "2023-09-16T07:01:20.242607",
     "status": "completed"
    },
    "tags": []
   },
   "outputs": [],
   "source": []
  }
 ],
 "metadata": {
  "kernelspec": {
   "display_name": "Python 3",
   "language": "python",
   "name": "python3"
  },
  "language_info": {
   "codemirror_mode": {
    "name": "ipython",
    "version": 3
   },
   "file_extension": ".py",
   "mimetype": "text/x-python",
   "name": "python",
   "nbconvert_exporter": "python",
   "pygments_lexer": "ipython3",
   "version": "3.10.12"
  },
  "papermill": {
   "default_parameters": {},
   "duration": 180.468984,
   "end_time": "2023-09-16T07:01:21.543668",
   "environment_variables": {},
   "exception": null,
   "input_path": "__notebook__.ipynb",
   "output_path": "__notebook__.ipynb",
   "parameters": {},
   "start_time": "2023-09-16T06:58:21.074684",
   "version": "2.4.0"
  }
 },
 "nbformat": 4,
 "nbformat_minor": 5
}
